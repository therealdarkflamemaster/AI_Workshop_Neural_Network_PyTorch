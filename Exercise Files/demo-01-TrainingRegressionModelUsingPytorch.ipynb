{
 "cells": [
  {
   "cell_type": "markdown",
   "id": "46dd3b38-ae72-4f1f-914b-014c637eb26f",
   "metadata": {
    "id": "46dd3b38-ae72-4f1f-914b-014c637eb26f"
   },
   "source": [
    "First of all we will create virtual environment and install the kernel and the required packages. Here the name of environment is pytorch_venv\n",
    "\n",
    "## TODO Recording\n",
    "\n",
    "- In a terminal window under a projects/ folder\n",
    "- Make sure the projects/ directory is empty\n",
    "\n",
    "`python --version`\n",
    "\n",
    "`python -m venv pytorch_venv`\n",
    "\n",
    "`ls -l`\n",
    "\n",
    "`source pytorch_venv/bin/activate`\n",
    "\n",
    "`python --version`\n",
    "\n",
    "`pip install ipykernel`\n",
    "\n",
    "`jupyter kernelspec list`\n",
    "\n",
    "`python -m ipykernel install --user --name=pytorch_venv`\n",
    "\n",
    "`jupyter kernelspec list`\n",
    "\n",
    "`jupyter notebook`\n",
    "\n",
    "- Make sure you use the pytorch_venv and create a new notebook"
   ]
  },
  {
   "cell_type": "markdown",
   "id": "af5e8574",
   "metadata": {
    "id": "af5e8574"
   },
   "source": [
    "https://github.com/mwaskom/seaborn/issues/3462"
   ]
  },
  {
   "cell_type": "code",
   "execution_count": 293,
   "id": "eedc939f",
   "metadata": {
    "id": "eedc939f"
   },
   "outputs": [],
   "source": [
    "import warnings\n",
    "\n",
    "warnings.filterwarnings(\"ignore\", \"is_categorical_dtype\")\n",
    "warnings.filterwarnings(\"ignore\", \"use_inf_as_na\")"
   ]
  },
  {
   "cell_type": "code",
   "execution_count": 294,
   "id": "d60da3be",
   "metadata": {
    "id": "d60da3be",
    "outputId": "d92331d2-2f4e-45af-a4f0-d59602150013"
   },
   "outputs": [
    {
     "name": "stdout",
     "output_type": "stream",
     "text": [
      "Requirement already satisfied: scikit-learn in /opt/anaconda3/lib/python3.12/site-packages (1.5.1)\n",
      "Requirement already satisfied: numpy>=1.19.5 in /opt/anaconda3/lib/python3.12/site-packages (from scikit-learn) (1.26.4)\n",
      "Requirement already satisfied: scipy>=1.6.0 in /opt/anaconda3/lib/python3.12/site-packages (from scikit-learn) (1.13.1)\n",
      "Requirement already satisfied: joblib>=1.2.0 in /opt/anaconda3/lib/python3.12/site-packages (from scikit-learn) (1.4.2)\n",
      "Requirement already satisfied: threadpoolctl>=3.1.0 in /opt/anaconda3/lib/python3.12/site-packages (from scikit-learn) (3.5.0)\n"
     ]
    }
   ],
   "source": [
    "!pip install scikit-learn"
   ]
  },
  {
   "cell_type": "code",
   "execution_count": 295,
   "id": "6171c7ce-aefb-4471-9057-132608fab0f3",
   "metadata": {
    "id": "6171c7ce-aefb-4471-9057-132608fab0f3",
    "outputId": "509992e6-638d-403d-dcf3-b929e383d05b"
   },
   "outputs": [
    {
     "name": "stdout",
     "output_type": "stream",
     "text": [
      "Requirement already satisfied: torch in /opt/anaconda3/lib/python3.12/site-packages (2.7.0)\n",
      "Requirement already satisfied: filelock in /opt/anaconda3/lib/python3.12/site-packages (from torch) (3.13.1)\n",
      "Requirement already satisfied: typing-extensions>=4.10.0 in /opt/anaconda3/lib/python3.12/site-packages (from torch) (4.11.0)\n",
      "Requirement already satisfied: setuptools in /opt/anaconda3/lib/python3.12/site-packages (from torch) (75.1.0)\n",
      "Requirement already satisfied: sympy>=1.13.3 in /opt/anaconda3/lib/python3.12/site-packages (from torch) (1.14.0)\n",
      "Requirement already satisfied: networkx in /opt/anaconda3/lib/python3.12/site-packages (from torch) (3.3)\n",
      "Requirement already satisfied: jinja2 in /opt/anaconda3/lib/python3.12/site-packages (from torch) (3.1.4)\n",
      "Requirement already satisfied: fsspec in /opt/anaconda3/lib/python3.12/site-packages (from torch) (2024.6.1)\n",
      "Requirement already satisfied: mpmath<1.4,>=1.1.0 in /opt/anaconda3/lib/python3.12/site-packages (from sympy>=1.13.3->torch) (1.3.0)\n",
      "Requirement already satisfied: MarkupSafe>=2.0 in /opt/anaconda3/lib/python3.12/site-packages (from jinja2->torch) (2.1.3)\n",
      "Note: you may need to restart the kernel to use updated packages.\n"
     ]
    }
   ],
   "source": [
    "pip install torch"
   ]
  },
  {
   "cell_type": "code",
   "execution_count": 296,
   "id": "cbc8580f",
   "metadata": {
    "colab": {
     "base_uri": "https://localhost:8080/"
    },
    "id": "cbc8580f",
    "outputId": "2717d993-4755-4fa3-e7a6-0b13d7f2fa57"
   },
   "outputs": [
    {
     "name": "stdout",
     "output_type": "stream",
     "text": [
      "Requirement already satisfied: torchmetrics in /opt/anaconda3/lib/python3.12/site-packages (1.7.1)\n",
      "Requirement already satisfied: numpy>1.20.0 in /opt/anaconda3/lib/python3.12/site-packages (from torchmetrics) (1.26.4)\n",
      "Requirement already satisfied: packaging>17.1 in /opt/anaconda3/lib/python3.12/site-packages (from torchmetrics) (24.1)\n",
      "Requirement already satisfied: torch>=2.0.0 in /opt/anaconda3/lib/python3.12/site-packages (from torchmetrics) (2.7.0)\n",
      "Requirement already satisfied: lightning-utilities>=0.8.0 in /opt/anaconda3/lib/python3.12/site-packages (from torchmetrics) (0.14.3)\n",
      "Requirement already satisfied: setuptools in /opt/anaconda3/lib/python3.12/site-packages (from lightning-utilities>=0.8.0->torchmetrics) (75.1.0)\n",
      "Requirement already satisfied: typing_extensions in /opt/anaconda3/lib/python3.12/site-packages (from lightning-utilities>=0.8.0->torchmetrics) (4.11.0)\n",
      "Requirement already satisfied: filelock in /opt/anaconda3/lib/python3.12/site-packages (from torch>=2.0.0->torchmetrics) (3.13.1)\n",
      "Requirement already satisfied: sympy>=1.13.3 in /opt/anaconda3/lib/python3.12/site-packages (from torch>=2.0.0->torchmetrics) (1.14.0)\n",
      "Requirement already satisfied: networkx in /opt/anaconda3/lib/python3.12/site-packages (from torch>=2.0.0->torchmetrics) (3.3)\n",
      "Requirement already satisfied: jinja2 in /opt/anaconda3/lib/python3.12/site-packages (from torch>=2.0.0->torchmetrics) (3.1.4)\n",
      "Requirement already satisfied: fsspec in /opt/anaconda3/lib/python3.12/site-packages (from torch>=2.0.0->torchmetrics) (2024.6.1)\n",
      "Requirement already satisfied: mpmath<1.4,>=1.1.0 in /opt/anaconda3/lib/python3.12/site-packages (from sympy>=1.13.3->torch>=2.0.0->torchmetrics) (1.3.0)\n",
      "Requirement already satisfied: MarkupSafe>=2.0 in /opt/anaconda3/lib/python3.12/site-packages (from jinja2->torch>=2.0.0->torchmetrics) (2.1.3)\n",
      "Note: you may need to restart the kernel to use updated packages.\n"
     ]
    }
   ],
   "source": [
    "pip install torchmetrics"
   ]
  },
  {
   "cell_type": "code",
   "execution_count": 297,
   "id": "948e38ed",
   "metadata": {
    "colab": {
     "base_uri": "https://localhost:8080/",
     "height": 35
    },
    "id": "948e38ed",
    "outputId": "7b60bc1f-f57e-4b4d-e0cb-4628dffd166c"
   },
   "outputs": [
    {
     "data": {
      "text/plain": [
       "'2.7.0'"
      ]
     },
     "execution_count": 297,
     "metadata": {},
     "output_type": "execute_result"
    }
   ],
   "source": [
    "import torch\n",
    "\n",
    "torch.__version__"
   ]
  },
  {
   "cell_type": "markdown",
   "id": "bba773c2-4c76-4213-a3c3-cd651124d825",
   "metadata": {
    "id": "bba773c2-4c76-4213-a3c3-cd651124d825"
   },
   "source": [
    "Importing required packages"
   ]
  },
  {
   "cell_type": "code",
   "execution_count": 299,
   "id": "b7812d16-81f1-440c-85ec-b1c5e32088ba",
   "metadata": {
    "id": "b7812d16-81f1-440c-85ec-b1c5e32088ba"
   },
   "outputs": [],
   "source": [
    "import numpy as np\n",
    "import pandas as pd\n",
    "import seaborn as sns\n",
    "import matplotlib.pyplot as plt\n",
    "\n",
    "import torch.nn as nn\n",
    "import torch.optim as optim\n",
    "from torch.utils.data import Dataset, DataLoader\n",
    "\n",
    "from sklearn.compose import ColumnTransformer\n",
    "from sklearn.model_selection import train_test_split\n",
    "from sklearn.preprocessing import StandardScaler, MinMaxScaler , OneHotEncoder"
   ]
  },
  {
   "cell_type": "markdown",
   "id": "ea8b9e09-2a9a-49c6-afb2-c0151a787399",
   "metadata": {
    "id": "ea8b9e09-2a9a-49c6-afb2-c0151a787399"
   },
   "source": [
    "Loading the data\n",
    "link-https://www.kaggle.com/datasets/simranjain17/insurance?select=insurance.csv"
   ]
  },
  {
   "cell_type": "code",
   "execution_count": 301,
   "id": "188e702b-75f4-46da-920e-49d3e21d8053",
   "metadata": {
    "colab": {
     "base_uri": "https://localhost:8080/",
     "height": 206
    },
    "id": "188e702b-75f4-46da-920e-49d3e21d8053",
    "outputId": "643ac645-568a-4e24-89fc-0da8e0b50a2e"
   },
   "outputs": [
    {
     "data": {
      "text/html": [
       "<div>\n",
       "<style scoped>\n",
       "    .dataframe tbody tr th:only-of-type {\n",
       "        vertical-align: middle;\n",
       "    }\n",
       "\n",
       "    .dataframe tbody tr th {\n",
       "        vertical-align: top;\n",
       "    }\n",
       "\n",
       "    .dataframe thead th {\n",
       "        text-align: right;\n",
       "    }\n",
       "</style>\n",
       "<table border=\"1\" class=\"dataframe\">\n",
       "  <thead>\n",
       "    <tr style=\"text-align: right;\">\n",
       "      <th></th>\n",
       "      <th>age</th>\n",
       "      <th>sex</th>\n",
       "      <th>bmi</th>\n",
       "      <th>children</th>\n",
       "      <th>smoker</th>\n",
       "      <th>region</th>\n",
       "      <th>charges</th>\n",
       "    </tr>\n",
       "  </thead>\n",
       "  <tbody>\n",
       "    <tr>\n",
       "      <th>0</th>\n",
       "      <td>19</td>\n",
       "      <td>female</td>\n",
       "      <td>27.900</td>\n",
       "      <td>0</td>\n",
       "      <td>yes</td>\n",
       "      <td>southwest</td>\n",
       "      <td>16884.92400</td>\n",
       "    </tr>\n",
       "    <tr>\n",
       "      <th>1</th>\n",
       "      <td>18</td>\n",
       "      <td>male</td>\n",
       "      <td>33.770</td>\n",
       "      <td>1</td>\n",
       "      <td>no</td>\n",
       "      <td>southeast</td>\n",
       "      <td>1725.55230</td>\n",
       "    </tr>\n",
       "    <tr>\n",
       "      <th>2</th>\n",
       "      <td>28</td>\n",
       "      <td>male</td>\n",
       "      <td>33.000</td>\n",
       "      <td>3</td>\n",
       "      <td>no</td>\n",
       "      <td>southeast</td>\n",
       "      <td>4449.46200</td>\n",
       "    </tr>\n",
       "    <tr>\n",
       "      <th>3</th>\n",
       "      <td>33</td>\n",
       "      <td>male</td>\n",
       "      <td>22.705</td>\n",
       "      <td>0</td>\n",
       "      <td>no</td>\n",
       "      <td>northwest</td>\n",
       "      <td>21984.47061</td>\n",
       "    </tr>\n",
       "    <tr>\n",
       "      <th>4</th>\n",
       "      <td>32</td>\n",
       "      <td>male</td>\n",
       "      <td>28.880</td>\n",
       "      <td>0</td>\n",
       "      <td>no</td>\n",
       "      <td>northwest</td>\n",
       "      <td>3866.85520</td>\n",
       "    </tr>\n",
       "  </tbody>\n",
       "</table>\n",
       "</div>"
      ],
      "text/plain": [
       "   age     sex     bmi  children smoker     region      charges\n",
       "0   19  female  27.900         0    yes  southwest  16884.92400\n",
       "1   18    male  33.770         1     no  southeast   1725.55230\n",
       "2   28    male  33.000         3     no  southeast   4449.46200\n",
       "3   33    male  22.705         0     no  northwest  21984.47061\n",
       "4   32    male  28.880         0     no  northwest   3866.85520"
      ]
     },
     "execution_count": 301,
     "metadata": {},
     "output_type": "execute_result"
    }
   ],
   "source": [
    "insurance_data = pd.read_csv(\"datasets/insurance.csv\")\n",
    "\n",
    "insurance_data.head()"
   ]
  },
  {
   "cell_type": "code",
   "execution_count": 302,
   "id": "9f71f416-6e7e-4520-aac0-a874dbb7d937",
   "metadata": {
    "colab": {
     "base_uri": "https://localhost:8080/"
    },
    "id": "9f71f416-6e7e-4520-aac0-a874dbb7d937",
    "outputId": "12f3ab48-4c55-4fe4-840d-efcc16cd0d2d"
   },
   "outputs": [
    {
     "data": {
      "text/plain": [
       "(1338, 7)"
      ]
     },
     "execution_count": 302,
     "metadata": {},
     "output_type": "execute_result"
    }
   ],
   "source": [
    "insurance_data.shape"
   ]
  },
  {
   "cell_type": "code",
   "execution_count": 303,
   "id": "fc261828-313d-4264-9cd6-27305218cb05",
   "metadata": {
    "colab": {
     "base_uri": "https://localhost:8080/"
    },
    "id": "fc261828-313d-4264-9cd6-27305218cb05",
    "outputId": "4c8f427c-5717-4b2c-8651-453780ad719a"
   },
   "outputs": [
    {
     "name": "stdout",
     "output_type": "stream",
     "text": [
      "<class 'pandas.core.frame.DataFrame'>\n",
      "RangeIndex: 1338 entries, 0 to 1337\n",
      "Data columns (total 7 columns):\n",
      " #   Column    Non-Null Count  Dtype  \n",
      "---  ------    --------------  -----  \n",
      " 0   age       1338 non-null   int64  \n",
      " 1   sex       1338 non-null   object \n",
      " 2   bmi       1338 non-null   float64\n",
      " 3   children  1338 non-null   int64  \n",
      " 4   smoker    1338 non-null   object \n",
      " 5   region    1338 non-null   object \n",
      " 6   charges   1338 non-null   float64\n",
      "dtypes: float64(2), int64(2), object(3)\n",
      "memory usage: 73.3+ KB\n"
     ]
    }
   ],
   "source": [
    "insurance_data.info()"
   ]
  },
  {
   "cell_type": "code",
   "execution_count": 304,
   "id": "185717c5-95d8-4789-87a1-30b0120606a7",
   "metadata": {
    "colab": {
     "base_uri": "https://localhost:8080/"
    },
    "id": "185717c5-95d8-4789-87a1-30b0120606a7",
    "outputId": "2a224879-2391-4309-ab2e-7f62a70fb7f8"
   },
   "outputs": [
    {
     "data": {
      "text/plain": [
       "Index(['age', 'sex', 'bmi', 'children', 'smoker', 'region', 'charges'], dtype='object')"
      ]
     },
     "execution_count": 304,
     "metadata": {},
     "output_type": "execute_result"
    }
   ],
   "source": [
    "insurance_data.columns"
   ]
  },
  {
   "cell_type": "code",
   "execution_count": 305,
   "id": "fa79f241-87c8-45ca-b619-fde5453a1071",
   "metadata": {
    "colab": {
     "base_uri": "https://localhost:8080/",
     "height": 466
    },
    "id": "fa79f241-87c8-45ca-b619-fde5453a1071",
    "outputId": "417417be-2d03-4363-f20c-0da561bee835"
   },
   "outputs": [
    {
     "data": {
      "text/plain": [
       "<Axes: xlabel='charges', ylabel='Count'>"
      ]
     },
     "execution_count": 305,
     "metadata": {},
     "output_type": "execute_result"
    },
    {
     "data": {
      "image/png": "[encoded data removed]",
      "text/plain": [
       "<Figure size 640x480 with 1 Axes>"
      ]
     },
     "metadata": {},
     "output_type": "display_data"
    }
   ],
   "source": [
    "sns.histplot(insurance_data[\"charges\"])"
   ]
  },
  {
   "cell_type": "code",
   "execution_count": 306,
   "id": "678b33f3",
   "metadata": {
    "colab": {
     "base_uri": "https://localhost:8080/",
     "height": 466
    },
    "id": "678b33f3",
    "outputId": "d85bb01a-a71f-4713-ddf9-f2d3142f81ce"
   },
   "outputs": [
    {
     "data": {
      "text/plain": [
       "<Axes: xlabel='smoker', ylabel='charges'>"
      ]
     },
     "execution_count": 306,
     "metadata": {},
     "output_type": "execute_result"
    },
    {
     "data": {
      "image/png": "[encoded data removed]",
      "text/plain": [
       "<Figure size 640x480 with 1 Axes>"
      ]
     },
     "metadata": {},
     "output_type": "display_data"
    }
   ],
   "source": [
    "sns.boxplot(y = insurance_data[\"charges\"], x = insurance_data[\"smoker\"])"
   ]
  },
  {
   "cell_type": "code",
   "execution_count": 307,
   "id": "b7e294da",
   "metadata": {
    "colab": {
     "base_uri": "https://localhost:8080/",
     "height": 466
    },
    "id": "b7e294da",
    "outputId": "acd3e079-d923-4a91-bb46-f4e3e6f3b79a"
   },
   "outputs": [
    {
     "data": {
      "text/plain": [
       "<Axes: xlabel='age', ylabel='charges'>"
      ]
     },
     "execution_count": 307,
     "metadata": {},
     "output_type": "execute_result"
    },
    {
     "data": {
      "image/png": "[encoded data removed]",
      "text/plain": [
       "<Figure size 640x480 with 1 Axes>"
      ]
     },
     "metadata": {},
     "output_type": "display_data"
    }
   ],
   "source": [
    "sns.scatterplot(y = insurance_data[\"charges\"], x = insurance_data[\"age\"])"
   ]
  },
  {
   "cell_type": "markdown",
   "id": "6256ac26-15e5-43bd-94c9-bff944ae1d3c",
   "metadata": {
    "id": "6256ac26-15e5-43bd-94c9-bff944ae1d3c"
   },
   "source": [
    "Splitting the data into training and validation sets"
   ]
  },
  {
   "cell_type": "code",
   "execution_count": 309,
   "id": "103c9642-a521-4cb0-ba6c-4633bda09b33",
   "metadata": {
    "colab": {
     "base_uri": "https://localhost:8080/"
    },
    "id": "103c9642-a521-4cb0-ba6c-4633bda09b33",
    "outputId": "14454067-e89f-4d2f-a24d-91f549969026"
   },
   "outputs": [
    {
     "data": {
      "text/plain": [
       "((1070, 6), (268, 6), (1070,), (268,))"
      ]
     },
     "execution_count": 309,
     "metadata": {},
     "output_type": "execute_result"
    }
   ],
   "source": [
    "X = insurance_data.drop(columns = [\"charges\"])\n",
    "y = insurance_data[\"charges\"]\n",
    "\n",
    "X_train, X_val, y_train, y_val = train_test_split(X, y, test_size = 0.2, random_state = 123)\n",
    "\n",
    "X_train.shape, X_val.shape, y_train.shape, y_val.shape"
   ]
  },
  {
   "cell_type": "markdown",
   "id": "f26e36d5-72ad-4f04-9e75-85fcfc6b62f8",
   "metadata": {
    "id": "f26e36d5-72ad-4f04-9e75-85fcfc6b62f8"
   },
   "source": [
    "Preprocessor for Data is defined by creating an instance of One-hot-encoder and also defining a column transformer to apply the One hot encoding to catrgorical varaiables only"
   ]
  },
  {
   "cell_type": "code",
   "execution_count": 311,
   "id": "02578393-2a66-4054-935f-66fbde76bce8",
   "metadata": {
    "id": "02578393-2a66-4054-935f-66fbde76bce8"
   },
   "outputs": [],
   "source": [
    "categorical_features = [\"sex\", \"smoker\", \"region\"]\n",
    "\n",
    "categorical_transformer = OneHotEncoder(\n",
    "    handle_unknown = \"ignore\", drop = \"first\", sparse_output = False\n",
    ")\n",
    "\n",
    "preprocessor = ColumnTransformer(\n",
    "    transformers = [(\"cat_tr\", categorical_transformer, categorical_features)],\n",
    "    remainder = \"passthrough\"\n",
    ")"
   ]
  },
  {
   "cell_type": "markdown",
   "id": "3e42ab9e-e06d-4cdd-b15c-320b7594a2d1",
   "metadata": {
    "id": "3e42ab9e-e06d-4cdd-b15c-320b7594a2d1"
   },
   "source": [
    "Applying preprocessor to train and validation data and checking the no. of columns"
   ]
  },
  {
   "cell_type": "code",
   "execution_count": 313,
   "id": "a6b1171f-341d-434c-a728-df936afebfcd",
   "metadata": {
    "colab": {
     "base_uri": "https://localhost:8080/"
    },
    "id": "a6b1171f-341d-434c-a728-df936afebfcd",
    "outputId": "d9f47e89-02f5-4aa5-82cc-71259b5aa80f"
   },
   "outputs": [
    {
     "data": {
      "text/plain": [
       "((1070, 8), (268, 8))"
      ]
     },
     "execution_count": 313,
     "metadata": {},
     "output_type": "execute_result"
    }
   ],
   "source": [
    "X_train = preprocessor.fit_transform(X_train)\n",
    "X_val = preprocessor.transform(X_val)\n",
    "\n",
    "X_train.shape, X_val.shape"
   ]
  },
  {
   "cell_type": "markdown",
   "id": "c8b82463-664a-4cbb-966a-76dde924fe6a",
   "metadata": {
    "id": "c8b82463-664a-4cbb-966a-76dde924fe6a"
   },
   "source": [
    "Preprocessed training data is shown which is in Numpy array form and one hot encoded columns are seen but with no column names"
   ]
  },
  {
   "cell_type": "code",
   "execution_count": 315,
   "id": "76a5efb2-23d0-4ca7-a25d-eea19800da69",
   "metadata": {
    "colab": {
     "base_uri": "https://localhost:8080/"
    },
    "id": "76a5efb2-23d0-4ca7-a25d-eea19800da69",
    "outputId": "58faaa3d-5012-427c-8cac-d8f6fb5baec8"
   },
   "outputs": [
    {
     "name": "stdout",
     "output_type": "stream",
     "text": [
      "[[ 1.     0.     1.    ... 40.    26.315  1.   ]\n",
      " [ 0.     1.     0.    ... 37.    38.39   0.   ]\n",
      " [ 1.     0.     0.    ... 50.    26.6    0.   ]\n",
      " ...\n",
      " [ 0.     0.     0.    ... 19.    28.4    1.   ]\n",
      " [ 1.     0.     0.    ... 18.    23.085  0.   ]\n",
      " [ 0.     1.     1.    ... 53.    36.86   3.   ]]\n"
     ]
    }
   ],
   "source": [
    "print(X_train)"
   ]
  },
  {
   "cell_type": "markdown",
   "id": "c4bb23a3-96c7-480c-9db3-48afbe13c34d",
   "metadata": {
    "id": "c4bb23a3-96c7-480c-9db3-48afbe13c34d"
   },
   "source": [
    "The numpy array is made into dataframe with column names for full clarity of data preprocessing"
   ]
  },
  {
   "cell_type": "code",
   "execution_count": 317,
   "id": "151363c6-a42d-4753-90be-7a5681fd4dd7",
   "metadata": {
    "colab": {
     "base_uri": "https://localhost:8080/",
     "height": 330
    },
    "id": "151363c6-a42d-4753-90be-7a5681fd4dd7",
    "outputId": "477e34cc-cb7b-46f9-ba40-7b728eee4d3f"
   },
   "outputs": [
    {
     "data": {
      "text/html": [
       "<div>\n",
       "<style scoped>\n",
       "    .dataframe tbody tr th:only-of-type {\n",
       "        vertical-align: middle;\n",
       "    }\n",
       "\n",
       "    .dataframe tbody tr th {\n",
       "        vertical-align: top;\n",
       "    }\n",
       "\n",
       "    .dataframe thead th {\n",
       "        text-align: right;\n",
       "    }\n",
       "</style>\n",
       "<table border=\"1\" class=\"dataframe\">\n",
       "  <thead>\n",
       "    <tr style=\"text-align: right;\">\n",
       "      <th></th>\n",
       "      <th>0</th>\n",
       "      <th>1</th>\n",
       "      <th>2</th>\n",
       "      <th>3</th>\n",
       "      <th>4</th>\n",
       "      <th>5</th>\n",
       "      <th>6</th>\n",
       "      <th>7</th>\n",
       "      <th>8</th>\n",
       "      <th>9</th>\n",
       "      <th>...</th>\n",
       "      <th>1060</th>\n",
       "      <th>1061</th>\n",
       "      <th>1062</th>\n",
       "      <th>1063</th>\n",
       "      <th>1064</th>\n",
       "      <th>1065</th>\n",
       "      <th>1066</th>\n",
       "      <th>1067</th>\n",
       "      <th>1068</th>\n",
       "      <th>1069</th>\n",
       "    </tr>\n",
       "  </thead>\n",
       "  <tbody>\n",
       "    <tr>\n",
       "      <th>cat_tr__sex_male</th>\n",
       "      <td>1.000</td>\n",
       "      <td>0.00</td>\n",
       "      <td>1.0</td>\n",
       "      <td>1.000</td>\n",
       "      <td>0.0</td>\n",
       "      <td>1.0</td>\n",
       "      <td>0.0</td>\n",
       "      <td>1.00</td>\n",
       "      <td>1.00</td>\n",
       "      <td>0.00</td>\n",
       "      <td>...</td>\n",
       "      <td>1.00</td>\n",
       "      <td>0.00</td>\n",
       "      <td>1.00</td>\n",
       "      <td>0.00</td>\n",
       "      <td>0.0</td>\n",
       "      <td>1.000</td>\n",
       "      <td>0.00</td>\n",
       "      <td>0.0</td>\n",
       "      <td>1.000</td>\n",
       "      <td>0.00</td>\n",
       "    </tr>\n",
       "    <tr>\n",
       "      <th>cat_tr__smoker_yes</th>\n",
       "      <td>0.000</td>\n",
       "      <td>1.00</td>\n",
       "      <td>0.0</td>\n",
       "      <td>0.000</td>\n",
       "      <td>0.0</td>\n",
       "      <td>0.0</td>\n",
       "      <td>0.0</td>\n",
       "      <td>0.00</td>\n",
       "      <td>1.00</td>\n",
       "      <td>0.00</td>\n",
       "      <td>...</td>\n",
       "      <td>0.00</td>\n",
       "      <td>0.00</td>\n",
       "      <td>1.00</td>\n",
       "      <td>0.00</td>\n",
       "      <td>0.0</td>\n",
       "      <td>0.000</td>\n",
       "      <td>0.00</td>\n",
       "      <td>0.0</td>\n",
       "      <td>0.000</td>\n",
       "      <td>1.00</td>\n",
       "    </tr>\n",
       "    <tr>\n",
       "      <th>cat_tr__region_northwest</th>\n",
       "      <td>1.000</td>\n",
       "      <td>0.00</td>\n",
       "      <td>0.0</td>\n",
       "      <td>0.000</td>\n",
       "      <td>0.0</td>\n",
       "      <td>0.0</td>\n",
       "      <td>0.0</td>\n",
       "      <td>0.00</td>\n",
       "      <td>0.00</td>\n",
       "      <td>1.00</td>\n",
       "      <td>...</td>\n",
       "      <td>0.00</td>\n",
       "      <td>1.00</td>\n",
       "      <td>0.00</td>\n",
       "      <td>1.00</td>\n",
       "      <td>0.0</td>\n",
       "      <td>0.000</td>\n",
       "      <td>1.00</td>\n",
       "      <td>0.0</td>\n",
       "      <td>0.000</td>\n",
       "      <td>1.00</td>\n",
       "    </tr>\n",
       "    <tr>\n",
       "      <th>cat_tr__region_southeast</th>\n",
       "      <td>0.000</td>\n",
       "      <td>1.00</td>\n",
       "      <td>0.0</td>\n",
       "      <td>0.000</td>\n",
       "      <td>0.0</td>\n",
       "      <td>1.0</td>\n",
       "      <td>0.0</td>\n",
       "      <td>1.00</td>\n",
       "      <td>1.00</td>\n",
       "      <td>0.00</td>\n",
       "      <td>...</td>\n",
       "      <td>1.00</td>\n",
       "      <td>0.00</td>\n",
       "      <td>0.00</td>\n",
       "      <td>0.00</td>\n",
       "      <td>0.0</td>\n",
       "      <td>0.000</td>\n",
       "      <td>0.00</td>\n",
       "      <td>0.0</td>\n",
       "      <td>0.000</td>\n",
       "      <td>0.00</td>\n",
       "    </tr>\n",
       "    <tr>\n",
       "      <th>cat_tr__region_southwest</th>\n",
       "      <td>0.000</td>\n",
       "      <td>0.00</td>\n",
       "      <td>1.0</td>\n",
       "      <td>0.000</td>\n",
       "      <td>1.0</td>\n",
       "      <td>0.0</td>\n",
       "      <td>1.0</td>\n",
       "      <td>0.00</td>\n",
       "      <td>0.00</td>\n",
       "      <td>0.00</td>\n",
       "      <td>...</td>\n",
       "      <td>0.00</td>\n",
       "      <td>0.00</td>\n",
       "      <td>0.00</td>\n",
       "      <td>0.00</td>\n",
       "      <td>1.0</td>\n",
       "      <td>0.000</td>\n",
       "      <td>0.00</td>\n",
       "      <td>1.0</td>\n",
       "      <td>0.000</td>\n",
       "      <td>0.00</td>\n",
       "    </tr>\n",
       "    <tr>\n",
       "      <th>remainder__age</th>\n",
       "      <td>40.000</td>\n",
       "      <td>37.00</td>\n",
       "      <td>50.0</td>\n",
       "      <td>46.000</td>\n",
       "      <td>21.0</td>\n",
       "      <td>59.0</td>\n",
       "      <td>48.0</td>\n",
       "      <td>32.00</td>\n",
       "      <td>26.00</td>\n",
       "      <td>33.00</td>\n",
       "      <td>...</td>\n",
       "      <td>58.00</td>\n",
       "      <td>28.00</td>\n",
       "      <td>39.00</td>\n",
       "      <td>21.00</td>\n",
       "      <td>54.0</td>\n",
       "      <td>37.000</td>\n",
       "      <td>20.00</td>\n",
       "      <td>19.0</td>\n",
       "      <td>18.000</td>\n",
       "      <td>53.00</td>\n",
       "    </tr>\n",
       "    <tr>\n",
       "      <th>remainder__bmi</th>\n",
       "      <td>26.315</td>\n",
       "      <td>38.39</td>\n",
       "      <td>26.6</td>\n",
       "      <td>24.795</td>\n",
       "      <td>17.4</td>\n",
       "      <td>26.4</td>\n",
       "      <td>28.9</td>\n",
       "      <td>37.18</td>\n",
       "      <td>27.06</td>\n",
       "      <td>42.94</td>\n",
       "      <td>...</td>\n",
       "      <td>32.01</td>\n",
       "      <td>34.77</td>\n",
       "      <td>26.41</td>\n",
       "      <td>35.72</td>\n",
       "      <td>30.8</td>\n",
       "      <td>22.705</td>\n",
       "      <td>31.92</td>\n",
       "      <td>28.4</td>\n",
       "      <td>23.085</td>\n",
       "      <td>36.86</td>\n",
       "    </tr>\n",
       "    <tr>\n",
       "      <th>remainder__children</th>\n",
       "      <td>1.000</td>\n",
       "      <td>0.00</td>\n",
       "      <td>0.0</td>\n",
       "      <td>3.000</td>\n",
       "      <td>1.0</td>\n",
       "      <td>0.0</td>\n",
       "      <td>0.0</td>\n",
       "      <td>2.00</td>\n",
       "      <td>0.00</td>\n",
       "      <td>3.00</td>\n",
       "      <td>...</td>\n",
       "      <td>1.00</td>\n",
       "      <td>0.00</td>\n",
       "      <td>0.00</td>\n",
       "      <td>0.00</td>\n",
       "      <td>3.0</td>\n",
       "      <td>3.000</td>\n",
       "      <td>0.00</td>\n",
       "      <td>1.0</td>\n",
       "      <td>0.000</td>\n",
       "      <td>3.00</td>\n",
       "    </tr>\n",
       "  </tbody>\n",
       "</table>\n",
       "<p>8 rows × 1070 columns</p>\n",
       "</div>"
      ],
      "text/plain": [
       "                            0      1     2       3     4     5     6     \\\n",
       "cat_tr__sex_male           1.000   0.00   1.0   1.000   0.0   1.0   0.0   \n",
       "cat_tr__smoker_yes         0.000   1.00   0.0   0.000   0.0   0.0   0.0   \n",
       "cat_tr__region_northwest   1.000   0.00   0.0   0.000   0.0   0.0   0.0   \n",
       "cat_tr__region_southeast   0.000   1.00   0.0   0.000   0.0   1.0   0.0   \n",
       "cat_tr__region_southwest   0.000   0.00   1.0   0.000   1.0   0.0   1.0   \n",
       "remainder__age            40.000  37.00  50.0  46.000  21.0  59.0  48.0   \n",
       "remainder__bmi            26.315  38.39  26.6  24.795  17.4  26.4  28.9   \n",
       "remainder__children        1.000   0.00   0.0   3.000   1.0   0.0   0.0   \n",
       "\n",
       "                           7      8      9     ...   1060   1061   1062  \\\n",
       "cat_tr__sex_male           1.00   1.00   0.00  ...   1.00   0.00   1.00   \n",
       "cat_tr__smoker_yes         0.00   1.00   0.00  ...   0.00   0.00   1.00   \n",
       "cat_tr__region_northwest   0.00   0.00   1.00  ...   0.00   1.00   0.00   \n",
       "cat_tr__region_southeast   1.00   1.00   0.00  ...   1.00   0.00   0.00   \n",
       "cat_tr__region_southwest   0.00   0.00   0.00  ...   0.00   0.00   0.00   \n",
       "remainder__age            32.00  26.00  33.00  ...  58.00  28.00  39.00   \n",
       "remainder__bmi            37.18  27.06  42.94  ...  32.01  34.77  26.41   \n",
       "remainder__children        2.00   0.00   3.00  ...   1.00   0.00   0.00   \n",
       "\n",
       "                           1063  1064    1065   1066  1067    1068   1069  \n",
       "cat_tr__sex_male           0.00   0.0   1.000   0.00   0.0   1.000   0.00  \n",
       "cat_tr__smoker_yes         0.00   0.0   0.000   0.00   0.0   0.000   1.00  \n",
       "cat_tr__region_northwest   1.00   0.0   0.000   1.00   0.0   0.000   1.00  \n",
       "cat_tr__region_southeast   0.00   0.0   0.000   0.00   0.0   0.000   0.00  \n",
       "cat_tr__region_southwest   0.00   1.0   0.000   0.00   1.0   0.000   0.00  \n",
       "remainder__age            21.00  54.0  37.000  20.00  19.0  18.000  53.00  \n",
       "remainder__bmi            35.72  30.8  22.705  31.92  28.4  23.085  36.86  \n",
       "remainder__children        0.00   3.0   3.000   0.00   1.0   0.000   3.00  \n",
       "\n",
       "[8 rows x 1070 columns]"
      ]
     },
     "execution_count": 317,
     "metadata": {},
     "output_type": "execute_result"
    }
   ],
   "source": [
    "pd.DataFrame(X_train, columns = preprocessor.get_feature_names_out()).T"
   ]
  },
  {
   "cell_type": "markdown",
   "id": "83bbdea3-0df9-4193-a453-097a37030b10",
   "metadata": {
    "id": "83bbdea3-0df9-4193-a453-097a37030b10"
   },
   "source": [
    "The target values converted into numpy array and some are displayed which are  quite large, so our Mean squared error will be large"
   ]
  },
  {
   "cell_type": "code",
   "execution_count": 319,
   "id": "f0ade179-e469-4d06-b373-0b8d00abdf0b",
   "metadata": {
    "colab": {
     "base_uri": "https://localhost:8080/"
    },
    "id": "f0ade179-e469-4d06-b373-0b8d00abdf0b",
    "outputId": "88f060d2-7222-4a9c-9d28-4f1b4d598874"
   },
   "outputs": [
    {
     "data": {
      "text/plain": [
       "array([ 6389.37785, 40419.0191 ,  8444.474  ,  9500.57305,  2585.269  ,\n",
       "       11743.299  ,  8277.523  ,  4673.3922 , 17043.3414 ,  6360.9936 ])"
      ]
     },
     "execution_count": 319,
     "metadata": {},
     "output_type": "execute_result"
    }
   ],
   "source": [
    "y_train = y_train.to_numpy()\n",
    "y_val = y_val.to_numpy()\n",
    "\n",
    "y_train[:10]"
   ]
  },
  {
   "cell_type": "markdown",
   "id": "0f2d55a8-fdae-4ec1-9030-94c31cc574ee",
   "metadata": {
    "id": "0f2d55a8-fdae-4ec1-9030-94c31cc574ee"
   },
   "source": [
    "Scaling all columns before training otherwise Error will be NAs training wont happen"
   ]
  },
  {
   "cell_type": "code",
   "execution_count": 321,
   "id": "a7fefb79-c38d-44bb-8d74-b237e6395dbc",
   "metadata": {
    "colab": {
     "base_uri": "https://localhost:8080/"
    },
    "id": "a7fefb79-c38d-44bb-8d74-b237e6395dbc",
    "outputId": "9495cb49-ff2c-44c1-8e47-5118bd29d3e5"
   },
   "outputs": [
    {
     "name": "stdout",
     "output_type": "stream",
     "text": [
      "[[ 0.98884723 -0.5         1.72132593 ...  0.06207177 -0.71961\n",
      "  -0.06736631]\n",
      " [-1.01127855  2.         -0.5809475  ... -0.15057538  1.28697921\n",
      "  -0.8864794 ]\n",
      " [ 0.98884723 -0.5        -0.5809475  ...  0.77089561 -0.67224951\n",
      "  -0.8864794 ]\n",
      " ...\n",
      " [-1.01127855 -0.5        -0.5809475  ... -1.42645829 -0.37313062\n",
      "  -0.06736631]\n",
      " [ 0.98884723 -0.5        -0.5809475  ... -1.49734067 -1.25636223\n",
      "  -0.8864794 ]\n",
      " [-1.01127855  2.          1.72132593 ...  0.98354276  1.03272816\n",
      "   1.57085987]]\n"
     ]
    }
   ],
   "source": [
    "stdscaler = StandardScaler()\n",
    "\n",
    "X_train = stdscaler.fit_transform(X_train)\n",
    "X_val = stdscaler.transform(X_val)\n",
    "\n",
    "print(X_train)"
   ]
  },
  {
   "cell_type": "markdown",
   "id": "f9a6340d-35a2-4dd4-8ee1-ef9498e45bdb",
   "metadata": {
    "id": "f9a6340d-35a2-4dd4-8ee1-ef9498e45bdb"
   },
   "source": [
    "Scaling targets using MinMax scaler"
   ]
  },
  {
   "cell_type": "code",
   "execution_count": 323,
   "id": "f92ba944",
   "metadata": {
    "colab": {
     "base_uri": "https://localhost:8080/"
    },
    "id": "f92ba944",
    "outputId": "95814d71-f9ad-4490-d426-d4bbddfdad0d"
   },
   "outputs": [
    {
     "data": {
      "text/plain": [
       "array([[ 6389.37785],\n",
       "       [40419.0191 ],\n",
       "       [ 8444.474  ],\n",
       "       ...,\n",
       "       [ 2331.519  ],\n",
       "       [ 1704.70015],\n",
       "       [46661.4424 ]])"
      ]
     },
     "execution_count": 323,
     "metadata": {},
     "output_type": "execute_result"
    }
   ],
   "source": [
    "y_train.reshape(-1, 1)"
   ]
  },
  {
   "cell_type": "code",
   "execution_count": 324,
   "id": "557a7429-d1aa-413d-9a24-d6894d89acdb",
   "metadata": {
    "id": "557a7429-d1aa-413d-9a24-d6894d89acdb"
   },
   "outputs": [],
   "source": [
    "min_max_scaler = MinMaxScaler()\n",
    "\n",
    "y_train = min_max_scaler.fit_transform(y_train.reshape(-1, 1))\n",
    "\n",
    "y_val = min_max_scaler.transform(y_val.reshape(-1, 1))"
   ]
  },
  {
   "cell_type": "markdown",
   "id": "b18b37fb-627a-4e79-a647-099d3b437d05",
   "metadata": {
    "id": "b18b37fb-627a-4e79-a647-099d3b437d05"
   },
   "source": [
    "Converting inputs and targets to tensors"
   ]
  },
  {
   "cell_type": "code",
   "execution_count": 326,
   "id": "777ab6ce-71a3-46db-af90-09ea93e6c9a7",
   "metadata": {
    "colab": {
     "base_uri": "https://localhost:8080/"
    },
    "id": "777ab6ce-71a3-46db-af90-09ea93e6c9a7",
    "outputId": "8869952f-d7ed-4fb8-cee1-72a277440d8c"
   },
   "outputs": [
    {
     "data": {
      "text/plain": [
       "(torch.Size([1070, 8]), torch.Size([1070, 1]))"
      ]
     },
     "execution_count": 326,
     "metadata": {},
     "output_type": "execute_result"
    }
   ],
   "source": [
    "train_inputs = torch.from_numpy(X_train).float()\n",
    "train_targets = torch.from_numpy(y_train.reshape(-1, 1)).float()\n",
    "\n",
    "train_inputs.shape, train_targets.shape"
   ]
  },
  {
   "cell_type": "markdown",
   "id": "f288f7f5-4d84-41ab-9337-a4835ca75c5c",
   "metadata": {
    "id": "f288f7f5-4d84-41ab-9337-a4835ca75c5c"
   },
   "source": [
    "Creating a Simple Neural network which is equivalent to Linear Regression model"
   ]
  },
  {
   "cell_type": "code",
   "execution_count": 328,
   "id": "a85cb82c-50f0-4ae2-abe0-66ad45c12a11",
   "metadata": {
    "id": "a85cb82c-50f0-4ae2-abe0-66ad45c12a11"
   },
   "outputs": [],
   "source": [
    "#class SimpleNeuralNet(nn.Module):\n",
    "\n",
    "    # Initialize the layers\n",
    "   # def __init__(self, num_features):\n",
    "\n",
    "    #    super().__init__()\n",
    "\n",
    "   #     self.linear1 = nn.Linear(num_features, 1)\n",
    "\n",
    "    # Perform the computation\n",
    " #   def forward(self, x):\n",
    "\n",
    "  #      x = self.linear1(x)\n",
    "\n",
    "   #     return x"
   ]
  },
  {
   "cell_type": "code",
   "execution_count": 329,
   "id": "d63274dd",
   "metadata": {
    "id": "d63274dd"
   },
   "outputs": [],
   "source": [
    "class SimpleNeuralNet(nn.Module):\n",
    "    # Initialize the layers\n",
    "    def __init__(self, num_features):\n",
    "        super().__init__()\n",
    "\n",
    "        self.layer_1 = nn.Linear(num_features, 16)\n",
    "        self.layer_2 = nn.Linear(16, 32)\n",
    "        self.layer_3 = nn.Linear(32, 16)\n",
    "        self.layer_out = nn.Linear(16, 1)\n",
    "\n",
    "        self.relu = nn.ReLU()\n",
    "    def forward(self, inputs):\n",
    "        x = self.relu(self.layer_1(inputs))\n",
    "        x = self.relu(self.layer_2(x))\n",
    "        x = self.relu(self.layer_3(x))\n",
    "        x = self.layer_out(x)\n",
    "        return (x)\n",
    "    def predict(self, test_inputs):\n",
    "        x = self.relu(self.layer_1(test_inputs))\n",
    "        x = self.relu(self.layer_2(x))\n",
    "        x = self.relu(self.layer_3(x))\n",
    "        x = self.layer_out(x)\n",
    "        return (x)"
   ]
  },
  {
   "cell_type": "markdown",
   "id": "68349aed-4611-4670-a60a-6a818d6fefc4",
   "metadata": {
    "id": "68349aed-4611-4670-a60a-6a818d6fefc4"
   },
   "source": [
    "## Neural Network with more layers\n",
    "class NeuralNetRegression(nn.Module):\n",
    "    # Initialize the layers\n",
    "    def __init__(self, num_features):\n",
    "        super(NeuralNetRegression, self).__init__()\n",
    "\n",
    "        self.layer_1 = nn.Linear(num_features, 16)\n",
    "        self.layer_2 = nn.Linear(16, 32)\n",
    "        self.layer_3 = nn.Linear(32, 16)\n",
    "        self.layer_out = nn.Linear(16, 1)\n",
    "\n",
    "        self.relu = nn.ReLU()\n",
    "    def forward(self, inputs):\n",
    "        x = self.relu(self.layer_1(inputs))\n",
    "        x = self.relu(self.layer_2(x))\n",
    "        x = self.relu(self.layer_3(x))\n",
    "        x = self.layer_out(x)\n",
    "        return (x)\n",
    "    def predict(self, test_inputs):\n",
    "        x = self.relu(self.layer_1(test_inputs))\n",
    "        x = self.relu(self.layer_2(x))\n",
    "        x = self.relu(self.layer_3(x))\n",
    "        x = self.layer_out(x)\n",
    "        return (x)"
   ]
  },
  {
   "cell_type": "code",
   "execution_count": 331,
   "id": "efe8143a-b079-411f-a4f2-da738e7701b0",
   "metadata": {
    "colab": {
     "base_uri": "https://localhost:8080/"
    },
    "id": "efe8143a-b079-411f-a4f2-da738e7701b0",
    "outputId": "1e7d15b1-ee10-4c09-8562-5174222e317d"
   },
   "outputs": [
    {
     "name": "stdout",
     "output_type": "stream",
     "text": [
      "SimpleNeuralNet(\n",
      "  (layer_1): Linear(in_features=8, out_features=16, bias=True)\n",
      "  (layer_2): Linear(in_features=16, out_features=32, bias=True)\n",
      "  (layer_3): Linear(in_features=32, out_features=16, bias=True)\n",
      "  (layer_out): Linear(in_features=16, out_features=1, bias=True)\n",
      "  (relu): ReLU()\n",
      ")\n"
     ]
    }
   ],
   "source": [
    "model = SimpleNeuralNet(num_features=8)\n",
    "\n",
    "print(model)"
   ]
  },
  {
   "cell_type": "markdown",
   "id": "5cfa5c8f-9370-4c60-a6f8-a391bcee9e27",
   "metadata": {
    "id": "5cfa5c8f-9370-4c60-a6f8-a391bcee9e27"
   },
   "source": [
    "Model weights and biases can be obtained"
   ]
  },
  {
   "cell_type": "code",
   "execution_count": 333,
   "id": "5dcd47ea-a277-4ab1-a316-cee9c143d6e9",
   "metadata": {
    "colab": {
     "base_uri": "https://localhost:8080/"
    },
    "id": "5dcd47ea-a277-4ab1-a316-cee9c143d6e9",
    "outputId": "ce9a0ce1-432d-422a-ecbf-7cf98af87449"
   },
   "outputs": [
    {
     "name": "stdout",
     "output_type": "stream",
     "text": [
      "tensor([[-0.1803,  0.1298,  0.3156,  0.0250,  0.2799,  0.3438,  0.2279, -0.2417],\n",
      "        [-0.0058,  0.2268,  0.0646, -0.0680,  0.3219,  0.0699,  0.2644,  0.1322],\n",
      "        [-0.2860,  0.2253, -0.1914,  0.3364,  0.3308, -0.0888, -0.2853, -0.2614],\n",
      "        [ 0.0603,  0.0042,  0.1910,  0.1391,  0.0518,  0.0928, -0.2598, -0.0069],\n",
      "        [-0.1372,  0.0303,  0.1894, -0.1801, -0.3151, -0.2162,  0.1826, -0.0897],\n",
      "        [ 0.0243, -0.2111,  0.2206, -0.1465, -0.1953, -0.0216,  0.3416,  0.2378],\n",
      "        [ 0.1567,  0.1528, -0.0077,  0.1514,  0.1117, -0.3418, -0.2566, -0.2638],\n",
      "        [-0.1863, -0.1250, -0.3030, -0.2798, -0.1363, -0.2004, -0.2304,  0.1054],\n",
      "        [ 0.3087,  0.0736,  0.2171,  0.1632, -0.2199, -0.1518,  0.0163,  0.0468],\n",
      "        [-0.1640, -0.2586,  0.1543, -0.2553, -0.1163,  0.3128,  0.1758,  0.2464],\n",
      "        [ 0.1456, -0.3194,  0.0145, -0.2257, -0.2892, -0.2680,  0.1382, -0.0027],\n",
      "        [ 0.2741,  0.3051, -0.2096,  0.0018, -0.1702, -0.3367,  0.0945, -0.0064],\n",
      "        [-0.0182, -0.2314, -0.3367, -0.0415, -0.3327,  0.2454,  0.2638,  0.2647],\n",
      "        [-0.1223,  0.3347, -0.2470,  0.1159, -0.2629,  0.1564,  0.1709,  0.2218],\n",
      "        [-0.1934, -0.0028,  0.0809,  0.1924, -0.1433, -0.0608,  0.0794, -0.2261],\n",
      "        [-0.1720,  0.3206,  0.2249, -0.1306, -0.2193, -0.3053, -0.0432,  0.2312]])\n",
      "tensor([ 0.2858, -0.0877,  0.1586, -0.1111, -0.2948, -0.2519,  0.2926, -0.3414,\n",
      "        -0.0832,  0.1172,  0.3226,  0.1491, -0.0383, -0.0758,  0.0287, -0.2906])\n",
      "tensor([[-0.0866, -0.0722, -0.1433,  0.0926,  0.2418, -0.1776, -0.1209,  0.1861,\n",
      "          0.1257, -0.0601, -0.0346,  0.1735,  0.2187, -0.0530,  0.0057, -0.2430],\n",
      "        [ 0.1617, -0.1077,  0.0677, -0.0103,  0.1891, -0.2269, -0.1069, -0.1692,\n",
      "          0.0721, -0.1707, -0.1102, -0.1511, -0.0448,  0.0122,  0.0717,  0.1784],\n",
      "        [-0.2212, -0.1600,  0.0616,  0.0605,  0.0519,  0.0403, -0.0645,  0.0602,\n",
      "          0.1913, -0.1444,  0.2092, -0.0378, -0.1477,  0.1347,  0.0414,  0.1985],\n",
      "        [ 0.0529, -0.2433, -0.1916,  0.0793, -0.1941, -0.1727,  0.1010,  0.0349,\n",
      "         -0.0396, -0.2461, -0.1358, -0.2441,  0.2439, -0.2224,  0.0901, -0.2215],\n",
      "        [ 0.1521,  0.0499, -0.1009,  0.1434, -0.1355,  0.1721,  0.0074, -0.1554,\n",
      "          0.0352, -0.1923,  0.1488, -0.2036,  0.0896, -0.1497, -0.0477,  0.0373],\n",
      "        [-0.1031,  0.0219,  0.0492,  0.1335,  0.2054, -0.1108,  0.1091,  0.0247,\n",
      "          0.0162,  0.0673, -0.2050, -0.1786, -0.0264,  0.0819,  0.1854, -0.1005],\n",
      "        [ 0.0751,  0.2403,  0.0618, -0.2324,  0.0753,  0.1304,  0.0071, -0.0817,\n",
      "         -0.2135,  0.0710,  0.2127,  0.2463, -0.1928,  0.1313,  0.1935,  0.0029],\n",
      "        [-0.0651,  0.0225, -0.0684, -0.0073, -0.2242,  0.0788, -0.1935, -0.1909,\n",
      "          0.2148,  0.0629, -0.0187, -0.0532,  0.2197, -0.1618, -0.1869, -0.1498],\n",
      "        [ 0.2257, -0.1393, -0.2408, -0.0459, -0.0443,  0.0531, -0.0751, -0.1431,\n",
      "          0.1883, -0.1525,  0.0643, -0.0017,  0.1685,  0.0823, -0.1392, -0.0888],\n",
      "        [ 0.0548, -0.0530,  0.0104, -0.0495, -0.1244, -0.0267, -0.0264, -0.2388,\n",
      "          0.2298, -0.1492,  0.1136,  0.1987, -0.2096,  0.1849,  0.0626, -0.2314],\n",
      "        [ 0.1732, -0.0208, -0.1761,  0.0113, -0.1271,  0.1023, -0.1486, -0.0411,\n",
      "         -0.0713, -0.2026, -0.0364,  0.1580,  0.1404,  0.0447,  0.0836, -0.2183],\n",
      "        [-0.2481,  0.0155, -0.0793, -0.2029, -0.0036,  0.0786, -0.0094,  0.1863,\n",
      "          0.1813, -0.0728,  0.0237,  0.1051, -0.2066, -0.2079, -0.0268,  0.0667],\n",
      "        [-0.1384, -0.0126, -0.1833, -0.1050, -0.0998,  0.0548, -0.1812,  0.2061,\n",
      "         -0.1683, -0.1412,  0.0811,  0.2266, -0.1647,  0.2102, -0.2146, -0.1136],\n",
      "        [ 0.1906,  0.2120,  0.0584,  0.2144,  0.2012, -0.1959,  0.2171,  0.1640,\n",
      "         -0.0633,  0.0113,  0.1265, -0.2367, -0.1451,  0.2466,  0.2172,  0.1969],\n",
      "        [ 0.0313,  0.2462,  0.1549, -0.1042, -0.0325, -0.2374, -0.2419, -0.1541,\n",
      "          0.2437, -0.1953,  0.0816,  0.1441, -0.0070,  0.1666, -0.1191,  0.1399],\n",
      "        [ 0.0401,  0.1860,  0.2415,  0.0828,  0.0426, -0.1972, -0.0532,  0.0796,\n",
      "         -0.0875,  0.0833, -0.1736,  0.1152, -0.1100, -0.1728,  0.0962,  0.0695],\n",
      "        [-0.1408,  0.0032,  0.1735,  0.1717, -0.1889,  0.0743,  0.1392, -0.2099,\n",
      "          0.0346,  0.2293,  0.1640,  0.0513,  0.0527,  0.0667,  0.1495,  0.1305],\n",
      "        [-0.0280,  0.0983,  0.1811,  0.2323,  0.0826,  0.2266, -0.0828, -0.1150,\n",
      "          0.1751, -0.0285,  0.0597,  0.1651,  0.0968, -0.2099, -0.1916, -0.1170],\n",
      "        [-0.1898,  0.1108,  0.1431, -0.2191,  0.1518,  0.1008,  0.0507, -0.1810,\n",
      "          0.1777, -0.1086,  0.2370, -0.1929, -0.2387,  0.0150,  0.0755, -0.2499],\n",
      "        [-0.1419,  0.0041, -0.1301, -0.1708,  0.0780,  0.1337,  0.2018, -0.0526,\n",
      "         -0.2293, -0.0707,  0.1403, -0.1979, -0.1297, -0.1282, -0.1541,  0.2024],\n",
      "        [ 0.2322,  0.2395,  0.2314,  0.1864,  0.0215, -0.2114, -0.2329, -0.2220,\n",
      "          0.1739,  0.2277, -0.0228,  0.1686,  0.0056, -0.2001, -0.0537, -0.2362],\n",
      "        [-0.1749,  0.1801,  0.0575,  0.0676,  0.1187,  0.1506, -0.0289, -0.0705,\n",
      "          0.1046,  0.1226, -0.1468,  0.1034,  0.2256, -0.2459,  0.2068, -0.2482],\n",
      "        [ 0.0251,  0.0991,  0.0801, -0.0371, -0.0810,  0.1072, -0.0191,  0.0649,\n",
      "         -0.1223, -0.0981, -0.2141, -0.0606,  0.1568,  0.0083,  0.2340,  0.1034],\n",
      "        [ 0.0282,  0.1289,  0.2445,  0.1681, -0.1887, -0.0430, -0.0406,  0.2349,\n",
      "         -0.0663, -0.1654,  0.0899,  0.1799,  0.1531, -0.0351, -0.2265,  0.1846],\n",
      "        [ 0.2346, -0.2489,  0.0188, -0.2492,  0.0781,  0.1567,  0.1367, -0.1167,\n",
      "          0.1865,  0.2485, -0.0945,  0.1735, -0.1439, -0.2044, -0.0842,  0.2312],\n",
      "        [-0.1779, -0.1273, -0.2286,  0.0013, -0.0159,  0.1764,  0.1490,  0.0836,\n",
      "          0.1231, -0.0510, -0.1478, -0.2417, -0.0877, -0.0016,  0.1497, -0.0141],\n",
      "        [ 0.0306, -0.0417,  0.0124,  0.2362,  0.0518, -0.1881, -0.0158, -0.1018,\n",
      "          0.1228, -0.0273,  0.1686,  0.2456, -0.0438,  0.0116,  0.1192,  0.1375],\n",
      "        [ 0.2018, -0.0578,  0.1284,  0.0170, -0.0794,  0.2302, -0.0642, -0.1009,\n",
      "          0.1726,  0.1889,  0.0366, -0.1458, -0.0206,  0.1692, -0.0864,  0.0245],\n",
      "        [ 0.0826, -0.1699, -0.2188, -0.0436,  0.0394, -0.1226, -0.1125, -0.2055,\n",
      "          0.0708, -0.2420,  0.0533,  0.0650, -0.1053,  0.1430,  0.1929,  0.1322],\n",
      "        [ 0.1423,  0.1011, -0.2228, -0.1020,  0.2216, -0.0026, -0.1236, -0.2083,\n",
      "          0.1531,  0.0348, -0.1380, -0.0720, -0.1105, -0.1883, -0.1629,  0.0058],\n",
      "        [ 0.0386, -0.1621,  0.1179, -0.0362,  0.1789, -0.1059,  0.2270, -0.2466,\n",
      "         -0.0901,  0.1158, -0.1879,  0.0273, -0.1306,  0.0310, -0.0414, -0.0910],\n",
      "        [-0.0307,  0.0225,  0.1404, -0.1949,  0.1185,  0.0209, -0.1868, -0.2042,\n",
      "         -0.2244, -0.2185,  0.0703, -0.1638,  0.1152,  0.2181,  0.0260, -0.1162]])\n",
      "tensor([-0.2179, -0.1746, -0.2363,  0.1082, -0.2068, -0.0131, -0.0183, -0.1084,\n",
      "         0.0044, -0.0120, -0.2207, -0.0039,  0.0290, -0.2419, -0.0585, -0.1638,\n",
      "        -0.0269,  0.1862,  0.0173,  0.1976, -0.0038, -0.1352,  0.0778,  0.1063,\n",
      "        -0.0342, -0.0032,  0.0633, -0.2266,  0.1280, -0.0644, -0.1490,  0.0481])\n",
      "tensor([[-9.2591e-02,  9.6863e-02, -1.3725e-01, -1.7601e-01,  9.8139e-02,\n",
      "          4.0177e-02,  3.8990e-02, -6.8278e-02, -1.1521e-01, -5.4871e-02,\n",
      "         -1.2475e-01, -8.8400e-02, -4.1038e-02, -1.1982e-01,  3.9793e-02,\n",
      "          6.2731e-02,  1.3284e-01, -1.2556e-01,  4.1160e-02,  6.2780e-04,\n",
      "         -1.3644e-01,  4.2045e-02, -1.1912e-02,  3.1602e-02,  6.4725e-02,\n",
      "         -2.5382e-02,  5.7936e-02,  7.3978e-02,  5.1508e-02,  8.9360e-02,\n",
      "         -2.9827e-03,  7.8305e-02],\n",
      "        [-4.2904e-02,  5.3602e-02,  7.8514e-02, -1.3828e-01,  1.7102e-01,\n",
      "          9.4623e-02,  1.0129e-01, -3.0379e-02,  1.4356e-01,  1.6094e-01,\n",
      "         -6.9457e-02, -8.7668e-03,  2.8919e-02, -4.0713e-02, -1.1024e-02,\n",
      "          7.3002e-02,  6.3557e-05,  1.5579e-01,  1.4987e-01,  1.5339e-01,\n",
      "          6.7798e-02, -2.3048e-02, -7.5817e-02,  1.0311e-01,  5.7216e-02,\n",
      "          2.5109e-02,  5.8830e-02, -7.6331e-02, -1.3434e-01, -1.7520e-02,\n",
      "         -3.2332e-02, -1.1889e-02],\n",
      "        [ 4.6918e-02,  1.5395e-01, -1.1004e-01, -2.5902e-02, -1.3361e-01,\n",
      "          1.5155e-01,  1.1845e-01,  5.9604e-03,  1.5041e-01, -1.4201e-01,\n",
      "         -4.3508e-02, -1.0199e-01,  1.2220e-01, -3.8707e-03, -2.5995e-02,\n",
      "         -1.3433e-02,  1.5275e-01, -1.3716e-01, -1.3886e-01,  1.5837e-01,\n",
      "          8.0453e-02,  5.0561e-02,  1.6568e-01,  4.3989e-02, -1.0879e-01,\n",
      "          1.5709e-01, -1.5238e-02, -7.5983e-02,  1.2158e-01,  1.8416e-04,\n",
      "          4.3954e-02, -4.0262e-02],\n",
      "        [-1.3934e-01, -1.5329e-02,  1.4664e-01, -1.7399e-01,  1.1142e-01,\n",
      "          6.2768e-02,  2.9065e-02, -1.5648e-01, -1.4466e-01,  7.8126e-02,\n",
      "         -7.8236e-02,  8.5364e-02,  1.3211e-01,  1.2062e-01, -1.4522e-01,\n",
      "          1.3708e-01,  1.3901e-01, -1.1923e-01,  7.1372e-02, -3.0115e-02,\n",
      "          2.5021e-02, -9.7223e-02,  4.9016e-02,  3.7464e-02,  7.6379e-02,\n",
      "          5.4006e-02,  1.6405e-01, -5.1968e-02, -6.8571e-03,  6.1738e-02,\n",
      "         -6.1081e-02,  9.0178e-02],\n",
      "        [-2.0150e-03,  4.3317e-02, -1.6391e-01,  3.7924e-02,  9.9860e-02,\n",
      "         -9.2964e-02, -1.1831e-01, -1.4475e-01, -4.4102e-02,  1.7841e-02,\n",
      "         -1.5499e-01, -9.0659e-02,  1.9882e-02, -8.1767e-03,  1.2886e-01,\n",
      "         -2.5485e-02, -7.5905e-03, -1.4428e-01,  8.2337e-02,  8.8857e-02,\n",
      "          4.5905e-02, -1.3165e-01, -1.5275e-02,  1.2694e-01, -2.8882e-02,\n",
      "          6.5210e-03, -5.8178e-02, -1.6870e-01,  1.3251e-01, -5.5313e-02,\n",
      "          2.0020e-02,  6.9761e-02],\n",
      "        [ 8.9037e-02,  1.6891e-01, -1.7421e-01,  1.0562e-01,  2.6322e-02,\n",
      "         -8.1489e-02, -4.7788e-02, -8.3292e-03, -8.9008e-02, -9.7670e-02,\n",
      "         -4.7920e-02,  1.1638e-01,  1.3328e-01,  2.1475e-02, -1.1118e-01,\n",
      "         -1.5536e-01,  4.7037e-02,  1.6158e-01,  1.3002e-01,  1.3169e-02,\n",
      "          1.4038e-01,  3.4628e-02,  4.8769e-02,  1.0107e-01,  1.2648e-01,\n",
      "          6.0684e-02, -4.8093e-02,  7.9318e-02,  1.2334e-01, -8.1715e-02,\n",
      "          7.9979e-02, -1.6281e-01],\n",
      "        [-4.4410e-02, -1.7509e-03,  3.8696e-03, -6.0708e-02, -1.5361e-01,\n",
      "          6.3925e-02, -6.2959e-02, -4.8155e-02,  1.2239e-01,  8.4063e-03,\n",
      "          3.0375e-02, -1.0265e-01, -3.9951e-04,  8.0929e-02,  1.1549e-01,\n",
      "         -4.1452e-02, -1.3455e-01,  4.1425e-02, -1.1267e-01,  4.9353e-02,\n",
      "          7.2277e-02,  1.2773e-01, -2.5850e-02,  4.0088e-02, -1.6722e-01,\n",
      "          1.5081e-01, -1.3594e-01,  9.7366e-02,  5.0525e-02, -7.8498e-02,\n",
      "          9.1066e-02, -1.8701e-02],\n",
      "        [-8.1185e-02,  1.2242e-01, -1.0988e-01,  4.9221e-02, -8.8131e-02,\n",
      "         -1.6885e-01, -1.7444e-01, -7.3984e-02, -9.2400e-02, -1.2879e-01,\n",
      "         -1.7105e-01, -8.0880e-02, -1.6117e-01,  2.5520e-02, -7.7797e-02,\n",
      "         -8.8097e-02, -1.6275e-01,  1.5107e-01,  7.5594e-02, -7.5126e-02,\n",
      "          9.2794e-02, -9.5749e-02,  3.4784e-02,  5.5184e-02,  3.6935e-02,\n",
      "         -1.5089e-01, -8.0598e-02,  1.3421e-01,  2.8081e-02, -8.2035e-02,\n",
      "         -1.2119e-01, -1.4503e-01],\n",
      "        [-4.5271e-02, -1.3496e-01, -7.7933e-02, -1.0412e-01, -1.6168e-01,\n",
      "         -1.7572e-01,  7.2045e-02, -1.4589e-01, -5.6570e-02,  1.2090e-01,\n",
      "          1.2504e-01, -1.1050e-02, -1.0045e-01, -1.3709e-01,  5.4486e-02,\n",
      "         -1.0206e-01, -1.2020e-01,  1.3854e-01,  1.4036e-01, -1.0342e-01,\n",
      "         -8.7548e-02,  5.0956e-02,  1.3264e-01,  7.6463e-02,  3.7615e-02,\n",
      "         -1.1437e-01, -2.9939e-02, -4.5406e-02, -7.8423e-02, -1.6985e-01,\n",
      "          9.8065e-02, -1.6008e-01],\n",
      "        [-1.6558e-02, -1.0187e-01,  3.3333e-02,  1.3722e-01,  8.3877e-02,\n",
      "         -1.6657e-01,  4.8450e-02, -9.5504e-02, -9.8507e-02,  8.3988e-02,\n",
      "         -9.7054e-04,  1.0113e-01, -1.5238e-01, -2.4451e-03,  1.1256e-01,\n",
      "          7.0023e-02, -1.7193e-01,  8.0090e-02,  9.6814e-02,  1.0763e-01,\n",
      "         -8.2768e-02,  1.0627e-01, -7.4392e-03, -1.1237e-01, -9.2240e-02,\n",
      "          8.1493e-02, -4.6560e-02, -1.5752e-01,  7.6466e-02,  5.9276e-02,\n",
      "         -8.9655e-02, -2.7792e-02],\n",
      "        [-5.7283e-02, -4.7862e-03,  6.5964e-02, -9.0444e-02,  1.2640e-03,\n",
      "          9.9656e-02, -1.4309e-01, -6.4032e-02, -1.6685e-02,  1.4510e-01,\n",
      "         -7.0240e-02,  1.2894e-01,  1.0220e-01,  1.3991e-01, -6.3182e-02,\n",
      "         -1.6278e-01,  1.5332e-01,  7.7600e-02, -2.5447e-02, -1.5344e-01,\n",
      "          1.5488e-01,  1.6205e-01, -4.6606e-02,  2.6069e-02, -1.3363e-04,\n",
      "         -1.6369e-01,  9.6511e-02, -5.5901e-02, -4.8799e-02, -6.4501e-02,\n",
      "         -1.6514e-01,  7.6963e-02],\n",
      "        [ 3.8364e-02, -1.2489e-01, -1.9923e-02, -9.2008e-02,  5.7792e-02,\n",
      "         -1.0417e-02, -9.4144e-02, -6.3022e-02,  1.6452e-01, -7.9095e-02,\n",
      "          3.6504e-02, -4.0361e-02, -2.7273e-02, -8.5378e-02, -1.3191e-01,\n",
      "          1.1193e-01, -6.0593e-02,  1.1103e-01, -2.1096e-02, -1.4998e-01,\n",
      "          1.3515e-01,  4.0697e-02,  1.6590e-01,  1.5408e-01,  1.5124e-01,\n",
      "         -2.1230e-02,  1.0275e-01, -1.0415e-01, -8.0071e-02, -8.1793e-03,\n",
      "          2.2723e-02, -1.0337e-01],\n",
      "        [ 8.3887e-03,  1.5998e-01, -8.2870e-03, -1.3206e-01, -1.6900e-01,\n",
      "          4.0387e-03,  5.6437e-03, -1.2013e-01,  4.5780e-02,  1.0284e-01,\n",
      "          9.5830e-02, -1.6597e-01, -1.5398e-01,  1.0614e-01,  1.1213e-01,\n",
      "         -7.0603e-02, -1.1534e-01,  8.3144e-02, -3.2971e-02,  1.4518e-01,\n",
      "         -4.3117e-02,  1.4079e-01, -1.2629e-01, -4.4820e-02, -1.8752e-02,\n",
      "          1.6641e-01, -1.2362e-01,  1.0088e-01,  1.5973e-01, -9.7682e-02,\n",
      "         -2.4477e-02,  5.1367e-02],\n",
      "        [ 8.7941e-02, -1.4905e-01,  1.1168e-01, -1.5025e-01, -1.3824e-02,\n",
      "         -1.6357e-02, -1.5175e-01,  4.8367e-02,  5.7063e-02, -1.0136e-01,\n",
      "         -2.3557e-02,  9.5596e-02, -1.0315e-01,  2.0065e-02, -4.1776e-02,\n",
      "         -9.4359e-02,  8.6445e-02,  1.0976e-01,  9.5232e-02, -1.5936e-01,\n",
      "         -9.0045e-03, -1.7181e-01, -8.9256e-02, -3.2679e-02, -5.3593e-02,\n",
      "         -8.4967e-02, -1.4278e-01,  9.7896e-02, -5.9192e-02,  6.3339e-02,\n",
      "         -1.2614e-01,  5.2033e-02],\n",
      "        [ 1.6019e-02, -6.8457e-02, -1.0719e-01,  2.3884e-02,  1.2964e-01,\n",
      "          1.1215e-02,  1.7223e-01, -1.2345e-01,  1.3447e-01,  1.3737e-01,\n",
      "          1.6605e-01,  1.2457e-01, -1.1129e-01, -1.3639e-01,  6.6229e-02,\n",
      "         -2.6583e-02,  4.5651e-02, -1.6214e-02, -7.0608e-02,  1.2310e-01,\n",
      "          8.3202e-02,  1.4833e-01,  6.5170e-02,  6.7704e-02,  8.9389e-02,\n",
      "         -5.2517e-02,  1.4172e-01,  5.5206e-04,  8.3771e-02,  6.4321e-02,\n",
      "          6.2187e-02,  9.8799e-02],\n",
      "        [ 5.1225e-02,  2.2687e-02, -1.2595e-02, -9.9047e-02,  2.3357e-02,\n",
      "          1.4260e-01,  5.3549e-02, -4.1014e-02, -5.6601e-02, -1.4678e-01,\n",
      "          9.1265e-02, -7.1530e-02, -1.2231e-01, -7.3107e-02, -2.2215e-02,\n",
      "          7.2922e-02,  1.0327e-01, -1.4533e-01, -9.5364e-02, -4.1417e-02,\n",
      "         -8.7656e-03, -1.1629e-01, -1.3587e-01,  9.5652e-02, -1.0659e-01,\n",
      "          1.7291e-01,  7.2768e-02, -1.6154e-03, -2.8462e-02, -5.6369e-02,\n",
      "         -1.1826e-01, -1.7510e-01]])\n",
      "tensor([-0.0801, -0.1294,  0.1473, -0.0129,  0.1091,  0.1203,  0.0249,  0.0974,\n",
      "         0.1075, -0.1101, -0.0299, -0.0729,  0.0092, -0.0760, -0.1610,  0.0308])\n",
      "tensor([[-0.0552,  0.2189,  0.0931,  0.2099, -0.0397,  0.2107,  0.2139,  0.0609,\n",
      "         -0.0194, -0.1560, -0.1081, -0.0393, -0.0473, -0.1462,  0.1526,  0.0410]])\n",
      "tensor([0.2146])\n"
     ]
    }
   ],
   "source": [
    "for layer in model.children():\n",
    "\n",
    "    if isinstance(layer, nn.Linear):\n",
    "        print(layer.state_dict()[\"weight\"])\n",
    "        print(layer.state_dict()[\"bias\"])"
   ]
  },
  {
   "cell_type": "code",
   "execution_count": 334,
   "id": "7ec94598-2245-4e52-a0af-a18d362b554a",
   "metadata": {
    "colab": {
     "base_uri": "https://localhost:8080/"
    },
    "id": "7ec94598-2245-4e52-a0af-a18d362b554a",
    "outputId": "faa06266-9aec-4d86-c47e-f8fccbce6b36"
   },
   "outputs": [
    {
     "data": {
      "text/plain": [
       "1233"
      ]
     },
     "execution_count": 334,
     "metadata": {},
     "output_type": "execute_result"
    }
   ],
   "source": [
    "def count_parameters(model):\n",
    "    return sum(p.numel() for p in model.parameters() if p.requires_grad)\n",
    "\n",
    "count_parameters(model)"
   ]
  },
  {
   "cell_type": "markdown",
   "id": "37077fd0-a6c1-4681-854f-749e6cb7cb6d",
   "metadata": {
    "id": "37077fd0-a6c1-4681-854f-749e6cb7cb6d"
   },
   "source": [
    "Defining loss function for model which is mse_loss"
   ]
  },
  {
   "cell_type": "code",
   "execution_count": 336,
   "id": "3af8d2a4-7545-4ac7-a6c2-86b277544430",
   "metadata": {
    "id": "3af8d2a4-7545-4ac7-a6c2-86b277544430"
   },
   "outputs": [],
   "source": [
    "import torch.nn.functional as F\n",
    "\n",
    "loss_fn = F.mse_loss"
   ]
  },
  {
   "cell_type": "markdown",
   "id": "9271609f-7d3e-49ad-add1-b39537812791",
   "metadata": {
    "id": "9271609f-7d3e-49ad-add1-b39537812791"
   },
   "source": [
    "Obtaining Loss for untrained model"
   ]
  },
  {
   "cell_type": "code",
   "execution_count": 338,
   "id": "05d0ba78-9340-4e69-bf9c-cd27772b5d75",
   "metadata": {
    "colab": {
     "base_uri": "https://localhost:8080/"
    },
    "id": "05d0ba78-9340-4e69-bf9c-cd27772b5d75",
    "outputId": "b1d29da4-a6f2-48ef-d4a0-aa408db2cf76"
   },
   "outputs": [
    {
     "name": "stdout",
     "output_type": "stream",
     "text": [
      "tensor(0.0505, grad_fn=<MseLossBackward0>)\n"
     ]
    }
   ],
   "source": [
    "loss = loss_fn(model(train_inputs), train_targets)\n",
    "\n",
    "print(loss)"
   ]
  },
  {
   "cell_type": "markdown",
   "id": "a7e05b03-daf2-41a2-b88c-ad10262a87b4",
   "metadata": {
    "id": "a7e05b03-daf2-41a2-b88c-ad10262a87b4"
   },
   "source": [
    "Generating  predictions with untrained model initialiased with random weights and biases"
   ]
  },
  {
   "cell_type": "code",
   "execution_count": 340,
   "id": "48d343e7-1bda-47ed-bff8-ce143ca61eff",
   "metadata": {
    "colab": {
     "base_uri": "https://localhost:8080/"
    },
    "id": "48d343e7-1bda-47ed-bff8-ce143ca61eff",
    "outputId": "caf7c0e8-3330-4f9f-f963-b203a927c099"
   },
   "outputs": [
    {
     "data": {
      "text/plain": [
       "tensor([[0.2973],\n",
       "        [0.3440],\n",
       "        [0.2929],\n",
       "        ...,\n",
       "        [0.3116],\n",
       "        [0.3557],\n",
       "        [0.3202]], grad_fn=<AddmmBackward0>)"
      ]
     },
     "execution_count": 340,
     "metadata": {},
     "output_type": "execute_result"
    }
   ],
   "source": [
    "preds = model(train_inputs)\n",
    "\n",
    "preds"
   ]
  },
  {
   "cell_type": "markdown",
   "id": "94342a45-4c4d-4234-96c5-5f12906193e0",
   "metadata": {
    "id": "94342a45-4c4d-4234-96c5-5f12906193e0"
   },
   "source": [
    "Now we would be using Torchmetrics library for calculating the performance metrics of untrained model"
   ]
  },
  {
   "cell_type": "code",
   "execution_count": 342,
   "id": "19d43e05-d4cf-40fc-b0e6-cddfe7397adf",
   "metadata": {
    "colab": {
     "base_uri": "https://localhost:8080/"
    },
    "id": "19d43e05-d4cf-40fc-b0e6-cddfe7397adf",
    "outputId": "1832073d-ef90-42d2-fd88-3b443b112c84"
   },
   "outputs": [
    {
     "name": "stdout",
     "output_type": "stream",
     "text": [
      "Mean Squared Error : 0.05045256391167641\n",
      "R^2 : -0.3155254125595093\n"
     ]
    }
   ],
   "source": [
    "from torchmetrics.regression import R2Score\n",
    "from torchmetrics.regression import MeanSquaredError\n",
    "\n",
    "MSE = MeanSquaredError()\n",
    "\n",
    "r2score = R2Score()\n",
    "\n",
    "print(\"Mean Squared Error :\", MSE(preds, train_targets).item())\n",
    "print(\"R^2 :\", r2score(preds, train_targets).item())"
   ]
  },
  {
   "cell_type": "markdown",
   "id": "68293339-2f93-49f4-84aa-cdce522052c5",
   "metadata": {
    "id": "68293339-2f93-49f4-84aa-cdce522052c5"
   },
   "source": [
    "Defining the Dataset and creating dataloader for training model in batches"
   ]
  },
  {
   "cell_type": "code",
   "execution_count": 344,
   "id": "58c23402-271a-4f15-b2cb-b85be5e0fb45",
   "metadata": {
    "colab": {
     "base_uri": "https://localhost:8080/"
    },
    "id": "58c23402-271a-4f15-b2cb-b85be5e0fb45",
    "outputId": "89c87c7e-0fb3-42d7-a19d-5fe6137c196b"
   },
   "outputs": [
    {
     "data": {
      "text/plain": [
       "(tensor([[ 0.9888, -0.5000,  1.7213, -0.6213, -0.5478,  0.0621, -0.7196, -0.0674],\n",
       "         [-1.0113,  2.0000, -0.5809,  1.6095, -0.5478, -0.1506,  1.2870, -0.8865],\n",
       "         [ 0.9888, -0.5000, -0.5809, -0.6213,  1.8254,  0.7709, -0.6722, -0.8865],\n",
       "         [ 0.9888, -0.5000, -0.5809, -0.6213, -0.5478,  0.4874, -0.9722,  1.5709],\n",
       "         [-1.0113, -0.5000, -0.5809, -0.6213,  1.8254, -1.2847, -2.2011, -0.0674]]),\n",
       " tensor([[0.0857],\n",
       "         [0.6393],\n",
       "         [0.1191],\n",
       "         [0.1363],\n",
       "         [0.0238]]))"
      ]
     },
     "execution_count": 344,
     "metadata": {},
     "output_type": "execute_result"
    }
   ],
   "source": [
    "from torch.utils.data import TensorDataset, DataLoader\n",
    "\n",
    "train_ds = TensorDataset(train_inputs, train_targets)\n",
    "\n",
    "train_ds[:5]"
   ]
  },
  {
   "cell_type": "markdown",
   "id": "a094eb38-0fc9-4a42-bac2-3d8c5d32e160",
   "metadata": {
    "id": "a094eb38-0fc9-4a42-bac2-3d8c5d32e160"
   },
   "source": [
    "Defining  data loader from dataset and enabling shuffling for Training dataloader"
   ]
  },
  {
   "cell_type": "code",
   "execution_count": 346,
   "id": "248ae877-bd59-4c67-83b3-e4ff528633f7",
   "metadata": {
    "colab": {
     "base_uri": "https://localhost:8080/"
    },
    "id": "248ae877-bd59-4c67-83b3-e4ff528633f7",
    "outputId": "fcaa83d4-30a9-4331-97f0-dcd3af084e00"
   },
   "outputs": [
    {
     "data": {
      "text/plain": [
       "[tensor([[ 0.9888, -0.5000, -0.5809, -0.6213,  1.8254, -1.4265, -0.5061, -0.8865],\n",
       "         [-1.0113,  2.0000, -0.5809, -0.6213,  1.8254, -0.2215, -1.3370,  0.7517],\n",
       "         [ 0.9888, -0.5000, -0.5809, -0.6213,  1.8254, -1.1429,  0.3414,  1.5709],\n",
       "         [-1.0113, -0.5000, -0.5809, -0.6213,  1.8254,  1.6924,  0.1919, -0.8865],\n",
       "         [ 0.9888, -0.5000, -0.5809, -0.6213, -0.5478, -0.7885, -0.6091,  0.7517],\n",
       "         [-1.0113, -0.5000, -0.5809,  1.6095, -0.5478,  0.1330,  0.9031, -0.0674],\n",
       "         [ 0.9888, -0.5000, -0.5809,  1.6095, -0.5478,  0.4874,  1.2504,  0.7517],\n",
       "         [-1.0113, -0.5000, -0.5809, -0.6213,  1.8254, -0.5759, -0.2568, -0.8865]]),\n",
       " tensor([[0.0021],\n",
       "         [0.2845],\n",
       "         [0.0402],\n",
       "         [0.2076],\n",
       "         [0.0539],\n",
       "         [0.0921],\n",
       "         [0.1175],\n",
       "         [0.0429]])]"
      ]
     },
     "execution_count": 346,
     "metadata": {},
     "output_type": "execute_result"
    }
   ],
   "source": [
    "batch_size = 8\n",
    "\n",
    "train_dl = DataLoader(train_ds, batch_size, shuffle = True)\n",
    "\n",
    "next(iter(train_dl))"
   ]
  },
  {
   "cell_type": "markdown",
   "id": "8b1989f5-5a00-495b-82c6-7eb958460868",
   "metadata": {
    "id": "8b1989f5-5a00-495b-82c6-7eb958460868"
   },
   "source": [
    "Creating Dataset and Dataloader for Validation data"
   ]
  },
  {
   "cell_type": "code",
   "execution_count": 348,
   "id": "b05107b4-e855-4d7d-ac37-0c4315f9cb14",
   "metadata": {
    "id": "b05107b4-e855-4d7d-ac37-0c4315f9cb14"
   },
   "outputs": [],
   "source": [
    "val_inputs = torch.from_numpy(X_val).float()\n",
    "val_targets = torch.from_numpy(y_val.reshape(-1, 1)).float()"
   ]
  },
  {
   "cell_type": "code",
   "execution_count": 349,
   "id": "03f67bea-eda8-40ec-a87f-df3106a861e2",
   "metadata": {
    "colab": {
     "base_uri": "https://localhost:8080/"
    },
    "id": "03f67bea-eda8-40ec-a87f-df3106a861e2",
    "outputId": "07288e7f-5577-49f6-99a4-e97ce6a9993f"
   },
   "outputs": [
    {
     "data": {
      "text/plain": [
       "(tensor([[-1.0113, -0.5000, -0.5809,  1.6095, -0.5478,  0.7000,  1.9999,  0.7517],\n",
       "         [ 0.9888, -0.5000, -0.5809, -0.6213, -0.5478, -0.5050,  1.1117, -0.0674],\n",
       "         [-1.0113,  2.0000, -0.5809, -0.6213,  1.8254, -0.8594,  0.1254, -0.8865],\n",
       "         [ 0.9888, -0.5000,  1.7213, -0.6213, -0.5478, -0.2923, -1.0827, -0.0674],\n",
       "         [ 0.9888, -0.5000, -0.5809,  1.6095, -0.5478,  1.4797, -0.8152, -0.8865]]),\n",
       " tensor([[0.1412],\n",
       "         [0.0577],\n",
       "         [0.5485],\n",
       "         [0.0651],\n",
       "         [0.1793]]))"
      ]
     },
     "execution_count": 349,
     "metadata": {},
     "output_type": "execute_result"
    }
   ],
   "source": [
    "val_ds = TensorDataset(val_inputs, val_targets)\n",
    "\n",
    "val_ds[:5]"
   ]
  },
  {
   "cell_type": "code",
   "execution_count": 350,
   "id": "fe773f76-1aa5-4e0d-8b36-1a40f99ca53f",
   "metadata": {
    "colab": {
     "base_uri": "https://localhost:8080/"
    },
    "id": "fe773f76-1aa5-4e0d-8b36-1a40f99ca53f",
    "outputId": "1253a089-fcf8-4996-f4ba-4e8df7bcd1db"
   },
   "outputs": [
    {
     "data": {
      "text/plain": [
       "[tensor([[-1.0113, -0.5000, -0.5809,  1.6095, -0.5478,  0.7000,  1.9999,  0.7517],\n",
       "         [ 0.9888, -0.5000, -0.5809, -0.6213, -0.5478, -0.5050,  1.1117, -0.0674],\n",
       "         [-1.0113,  2.0000, -0.5809, -0.6213,  1.8254, -0.8594,  0.1254, -0.8865],\n",
       "         [ 0.9888, -0.5000,  1.7213, -0.6213, -0.5478, -0.2923, -1.0827, -0.0674],\n",
       "         [ 0.9888, -0.5000, -0.5809,  1.6095, -0.5478,  1.4797, -0.8152, -0.8865],\n",
       "         [-1.0113, -0.5000, -0.5809,  1.6095, -0.5478,  0.7709, -0.4130,  1.5709],\n",
       "         [ 0.9888, -0.5000, -0.5809, -0.6213, -0.5478, -0.8594, -1.9510,  1.5709],\n",
       "         [-1.0113, -0.5000, -0.5809, -0.6213,  1.8254, -0.4341, -2.0183, -0.0674]]),\n",
       " tensor([[0.1412],\n",
       "         [0.0577],\n",
       "         [0.5485],\n",
       "         [0.0651],\n",
       "         [0.1793],\n",
       "         [0.1559],\n",
       "         [0.0603],\n",
       "         [0.0593]])]"
      ]
     },
     "execution_count": 350,
     "metadata": {},
     "output_type": "execute_result"
    }
   ],
   "source": [
    "val_dl = DataLoader(val_ds, batch_size)\n",
    "\n",
    "next(iter(val_dl))"
   ]
  },
  {
   "cell_type": "markdown",
   "id": "349a036e-eeac-4df6-b985-c08707104614",
   "metadata": {
    "id": "349a036e-eeac-4df6-b985-c08707104614"
   },
   "source": [
    "The Training Loop:\n",
    "\n",
    "Gets a batch of training data from the DataLoader\n",
    "\n",
    "Zeros the optimizer’s gradients\n",
    "\n",
    "Performs an inference - that is, gets predictions from the model for an input batch\n",
    "\n",
    "Calculates the loss for that set of predictions vs. the labels on the dataset\n",
    "\n",
    "Calculates the backward gradients over the learning weights\n",
    "\n",
    "Tells the optimizer to perform one learning step - that is, adjust the model’s learning weights based on the observed gradients for this batch, according to the optimization algorithm we chose"
   ]
  },
  {
   "cell_type": "code",
   "execution_count": 352,
   "id": "aba1c770",
   "metadata": {
    "id": "aba1c770"
   },
   "outputs": [],
   "source": [
    "loss_stats = {\n",
    "    \"train\": [],\n",
    "    \"val\": []\n",
    "}\n",
    "\n",
    "num_epochs = 100"
   ]
  },
  {
   "cell_type": "code",
   "execution_count": 353,
   "id": "3b9101da",
   "metadata": {
    "colab": {
     "base_uri": "https://localhost:8080/"
    },
    "id": "3b9101da",
    "outputId": "4568326c-7493-4a41-9fcb-b16908cf271a"
   },
   "outputs": [
    {
     "name": "stdout",
     "output_type": "stream",
     "text": [
      "Using mps device\n"
     ]
    }
   ],
   "source": [
    "device = (\n",
    "    \"cuda\"\n",
    "    if torch.cuda.is_available()\n",
    "    else \"mps\"\n",
    "    if torch.backends.mps.is_available()\n",
    "    else \"cpu\"\n",
    ")\n",
    "\n",
    "print(f\"Using {device} device\")"
   ]
  },
  {
   "cell_type": "code",
   "execution_count": 354,
   "id": "8c6e7b78",
   "metadata": {
    "colab": {
     "base_uri": "https://localhost:8080/"
    },
    "id": "8c6e7b78",
    "outputId": "89f7667b-f879-483b-955b-5c91d4e10b06"
   },
   "outputs": [
    {
     "name": "stdout",
     "output_type": "stream",
     "text": [
      "SimpleNeuralNet(\n",
      "  (layer_1): Linear(in_features=8, out_features=16, bias=True)\n",
      "  (layer_2): Linear(in_features=16, out_features=32, bias=True)\n",
      "  (layer_3): Linear(in_features=32, out_features=16, bias=True)\n",
      "  (layer_out): Linear(in_features=16, out_features=1, bias=True)\n",
      "  (relu): ReLU()\n",
      ")\n"
     ]
    }
   ],
   "source": [
    "model = SimpleNeuralNet(num_features=8).to(device)\n",
    "\n",
    "print(model)"
   ]
  },
  {
   "cell_type": "code",
   "execution_count": 355,
   "id": "MqCLaCKdIQmr",
   "metadata": {
    "id": "MqCLaCKdIQmr"
   },
   "outputs": [],
   "source": [
    "optimizer = torch.optim.SGD(model.parameters(), lr = 1e-2)"
   ]
  },
  {
   "cell_type": "code",
   "execution_count": 356,
   "id": "df01412f-323a-483f-aad9-3c9efad7c7fd",
   "metadata": {
    "colab": {
     "base_uri": "https://localhost:8080/"
    },
    "id": "df01412f-323a-483f-aad9-3c9efad7c7fd",
    "outputId": "db2c776f-61f4-42b0-9a68-5b43e8d3ce85"
   },
   "outputs": [
    {
     "name": "stdout",
     "output_type": "stream",
     "text": [
      "Epoch 0: | Train Loss: 0.048 | Val Loss: 0.034\n",
      "Epoch 1: | Train Loss: 0.030 | Val Loss: 0.031\n",
      "Epoch 2: | Train Loss: 0.027 | Val Loss: 0.027\n",
      "Epoch 3: | Train Loss: 0.024 | Val Loss: 0.023\n",
      "Epoch 4: | Train Loss: 0.020 | Val Loss: 0.020\n",
      "Epoch 5: | Train Loss: 0.018 | Val Loss: 0.017\n",
      "Epoch 6: | Train Loss: 0.015 | Val Loss: 0.014\n",
      "Epoch 7: | Train Loss: 0.014 | Val Loss: 0.012\n",
      "Epoch 8: | Train Loss: 0.013 | Val Loss: 0.011\n",
      "Epoch 9: | Train Loss: 0.012 | Val Loss: 0.010\n",
      "Epoch 10: | Train Loss: 0.012 | Val Loss: 0.010\n",
      "Epoch 11: | Train Loss: 0.011 | Val Loss: 0.009\n",
      "Epoch 12: | Train Loss: 0.011 | Val Loss: 0.009\n",
      "Epoch 13: | Train Loss: 0.011 | Val Loss: 0.008\n",
      "Epoch 14: | Train Loss: 0.011 | Val Loss: 0.008\n",
      "Epoch 15: | Train Loss: 0.010 | Val Loss: 0.008\n",
      "Epoch 16: | Train Loss: 0.010 | Val Loss: 0.008\n",
      "Epoch 17: | Train Loss: 0.010 | Val Loss: 0.007\n",
      "Epoch 18: | Train Loss: 0.010 | Val Loss: 0.007\n",
      "Epoch 19: | Train Loss: 0.010 | Val Loss: 0.007\n",
      "Epoch 20: | Train Loss: 0.010 | Val Loss: 0.007\n",
      "Epoch 21: | Train Loss: 0.009 | Val Loss: 0.007\n",
      "Epoch 22: | Train Loss: 0.009 | Val Loss: 0.006\n",
      "Epoch 23: | Train Loss: 0.009 | Val Loss: 0.006\n",
      "Epoch 24: | Train Loss: 0.009 | Val Loss: 0.006\n",
      "Epoch 25: | Train Loss: 0.009 | Val Loss: 0.006\n",
      "Epoch 26: | Train Loss: 0.009 | Val Loss: 0.006\n",
      "Epoch 27: | Train Loss: 0.009 | Val Loss: 0.006\n",
      "Epoch 28: | Train Loss: 0.009 | Val Loss: 0.006\n",
      "Epoch 29: | Train Loss: 0.009 | Val Loss: 0.006\n",
      "Epoch 30: | Train Loss: 0.008 | Val Loss: 0.006\n",
      "Epoch 31: | Train Loss: 0.008 | Val Loss: 0.006\n",
      "Epoch 32: | Train Loss: 0.008 | Val Loss: 0.006\n",
      "Epoch 33: | Train Loss: 0.008 | Val Loss: 0.006\n",
      "Epoch 34: | Train Loss: 0.008 | Val Loss: 0.005\n",
      "Epoch 35: | Train Loss: 0.008 | Val Loss: 0.005\n",
      "Epoch 36: | Train Loss: 0.008 | Val Loss: 0.005\n",
      "Epoch 37: | Train Loss: 0.008 | Val Loss: 0.005\n",
      "Epoch 38: | Train Loss: 0.008 | Val Loss: 0.005\n",
      "Epoch 39: | Train Loss: 0.008 | Val Loss: 0.005\n",
      "Epoch 40: | Train Loss: 0.008 | Val Loss: 0.005\n",
      "Epoch 41: | Train Loss: 0.008 | Val Loss: 0.005\n",
      "Epoch 42: | Train Loss: 0.008 | Val Loss: 0.005\n",
      "Epoch 43: | Train Loss: 0.008 | Val Loss: 0.005\n",
      "Epoch 44: | Train Loss: 0.008 | Val Loss: 0.005\n",
      "Epoch 45: | Train Loss: 0.008 | Val Loss: 0.005\n",
      "Epoch 46: | Train Loss: 0.008 | Val Loss: 0.005\n",
      "Epoch 47: | Train Loss: 0.008 | Val Loss: 0.005\n",
      "Epoch 48: | Train Loss: 0.008 | Val Loss: 0.005\n",
      "Epoch 49: | Train Loss: 0.008 | Val Loss: 0.005\n",
      "Epoch 50: | Train Loss: 0.008 | Val Loss: 0.005\n",
      "Epoch 51: | Train Loss: 0.008 | Val Loss: 0.005\n",
      "Epoch 52: | Train Loss: 0.008 | Val Loss: 0.005\n",
      "Epoch 53: | Train Loss: 0.008 | Val Loss: 0.005\n",
      "Epoch 54: | Train Loss: 0.007 | Val Loss: 0.005\n",
      "Epoch 55: | Train Loss: 0.007 | Val Loss: 0.005\n",
      "Epoch 56: | Train Loss: 0.007 | Val Loss: 0.005\n",
      "Epoch 57: | Train Loss: 0.007 | Val Loss: 0.005\n",
      "Epoch 58: | Train Loss: 0.007 | Val Loss: 0.005\n",
      "Epoch 59: | Train Loss: 0.007 | Val Loss: 0.005\n",
      "Epoch 60: | Train Loss: 0.007 | Val Loss: 0.005\n",
      "Epoch 61: | Train Loss: 0.007 | Val Loss: 0.004\n",
      "Epoch 62: | Train Loss: 0.007 | Val Loss: 0.004\n",
      "Epoch 63: | Train Loss: 0.007 | Val Loss: 0.004\n",
      "Epoch 64: | Train Loss: 0.007 | Val Loss: 0.004\n",
      "Epoch 65: | Train Loss: 0.007 | Val Loss: 0.004\n",
      "Epoch 66: | Train Loss: 0.007 | Val Loss: 0.004\n",
      "Epoch 67: | Train Loss: 0.007 | Val Loss: 0.004\n",
      "Epoch 68: | Train Loss: 0.007 | Val Loss: 0.004\n",
      "Epoch 69: | Train Loss: 0.007 | Val Loss: 0.004\n",
      "Epoch 70: | Train Loss: 0.007 | Val Loss: 0.004\n",
      "Epoch 71: | Train Loss: 0.007 | Val Loss: 0.004\n",
      "Epoch 72: | Train Loss: 0.007 | Val Loss: 0.004\n",
      "Epoch 73: | Train Loss: 0.007 | Val Loss: 0.004\n",
      "Epoch 74: | Train Loss: 0.007 | Val Loss: 0.004\n",
      "Epoch 75: | Train Loss: 0.007 | Val Loss: 0.004\n",
      "Epoch 76: | Train Loss: 0.007 | Val Loss: 0.004\n",
      "Epoch 77: | Train Loss: 0.007 | Val Loss: 0.004\n",
      "Epoch 78: | Train Loss: 0.007 | Val Loss: 0.004\n",
      "Epoch 79: | Train Loss: 0.007 | Val Loss: 0.004\n",
      "Epoch 80: | Train Loss: 0.007 | Val Loss: 0.004\n",
      "Epoch 81: | Train Loss: 0.007 | Val Loss: 0.004\n",
      "Epoch 82: | Train Loss: 0.007 | Val Loss: 0.004\n",
      "Epoch 83: | Train Loss: 0.007 | Val Loss: 0.004\n",
      "Epoch 84: | Train Loss: 0.007 | Val Loss: 0.004\n",
      "Epoch 85: | Train Loss: 0.007 | Val Loss: 0.004\n",
      "Epoch 86: | Train Loss: 0.007 | Val Loss: 0.004\n",
      "Epoch 87: | Train Loss: 0.007 | Val Loss: 0.004\n",
      "Epoch 88: | Train Loss: 0.007 | Val Loss: 0.004\n",
      "Epoch 89: | Train Loss: 0.007 | Val Loss: 0.004\n",
      "Epoch 90: | Train Loss: 0.007 | Val Loss: 0.004\n",
      "Epoch 91: | Train Loss: 0.007 | Val Loss: 0.004\n",
      "Epoch 92: | Train Loss: 0.007 | Val Loss: 0.004\n",
      "Epoch 93: | Train Loss: 0.007 | Val Loss: 0.004\n",
      "Epoch 94: | Train Loss: 0.007 | Val Loss: 0.004\n",
      "Epoch 95: | Train Loss: 0.007 | Val Loss: 0.004\n",
      "Epoch 96: | Train Loss: 0.007 | Val Loss: 0.004\n",
      "Epoch 97: | Train Loss: 0.007 | Val Loss: 0.004\n",
      "Epoch 98: | Train Loss: 0.007 | Val Loss: 0.004\n",
      "Epoch 99: | Train Loss: 0.007 | Val Loss: 0.004\n"
     ]
    }
   ],
   "source": [
    "for epoch in range(num_epochs):\n",
    "    # TRAINING\n",
    "    train_epoch_loss = 0\n",
    "\n",
    "    model.train()\n",
    "\n",
    "    for X_train_batch, y_train_batch in train_dl:\n",
    "\n",
    "        optimizer.zero_grad()\n",
    "\n",
    "        # Move data to the same device as the model\n",
    "        X_train_batch, y_train_batch = \\\n",
    "            X_train_batch.to(device), y_train_batch.to(device)\n",
    "\n",
    "        # Generate predictions and compute loss\n",
    "        preds = model(X_train_batch)\n",
    "\n",
    "        train_loss = loss_fn(preds, y_train_batch)\n",
    "\n",
    "        # Perform gradient descent\n",
    "        train_loss.backward()\n",
    "\n",
    "        optimizer.step()\n",
    "\n",
    "        train_epoch_loss += train_loss.item()\n",
    "\n",
    "    # VALIDATION\n",
    "    with torch.no_grad():\n",
    "\n",
    "        val_epoch_loss = 0\n",
    "\n",
    "        model.eval()\n",
    "\n",
    "        for X_val_batch, y_val_batch in val_dl:\n",
    "\n",
    "            X_val_batch, y_val_batch = \\\n",
    "                X_val_batch.to(device), y_val_batch.to(device)\n",
    "\n",
    "            y_val_pred = model(X_val_batch)\n",
    "\n",
    "            val_loss = loss_fn(y_val_pred, y_val_batch)\n",
    "\n",
    "            val_epoch_loss += val_loss.item()\n",
    "\n",
    "    train_loss = train_epoch_loss / len(train_dl)\n",
    "    val_loss = val_epoch_loss / len(val_dl)\n",
    "\n",
    "    loss_stats[\"train\"].append(train_loss)\n",
    "    loss_stats[\"val\"].append(val_loss)\n",
    "\n",
    "    print(f'Epoch {epoch+0:01}: | Train Loss: {train_loss:.3f} | Val Loss: {val_loss:.3f}')"
   ]
  },
  {
   "cell_type": "code",
   "execution_count": 357,
   "id": "4bd033ab",
   "metadata": {
    "colab": {
     "base_uri": "https://localhost:8080/",
     "height": 206
    },
    "id": "4bd033ab",
    "outputId": "c2eb4b92-366c-4774-f7c8-4b22d269c046"
   },
   "outputs": [
    {
     "data": {
      "text/html": [
       "<div>\n",
       "<style scoped>\n",
       "    .dataframe tbody tr th:only-of-type {\n",
       "        vertical-align: middle;\n",
       "    }\n",
       "\n",
       "    .dataframe tbody tr th {\n",
       "        vertical-align: top;\n",
       "    }\n",
       "\n",
       "    .dataframe thead th {\n",
       "        text-align: right;\n",
       "    }\n",
       "</style>\n",
       "<table border=\"1\" class=\"dataframe\">\n",
       "  <thead>\n",
       "    <tr style=\"text-align: right;\">\n",
       "      <th></th>\n",
       "      <th>epochs</th>\n",
       "      <th>variable</th>\n",
       "      <th>value</th>\n",
       "    </tr>\n",
       "  </thead>\n",
       "  <tbody>\n",
       "    <tr>\n",
       "      <th>0</th>\n",
       "      <td>0</td>\n",
       "      <td>train</td>\n",
       "      <td>0.048183</td>\n",
       "    </tr>\n",
       "    <tr>\n",
       "      <th>1</th>\n",
       "      <td>1</td>\n",
       "      <td>train</td>\n",
       "      <td>0.030454</td>\n",
       "    </tr>\n",
       "    <tr>\n",
       "      <th>2</th>\n",
       "      <td>2</td>\n",
       "      <td>train</td>\n",
       "      <td>0.027054</td>\n",
       "    </tr>\n",
       "    <tr>\n",
       "      <th>3</th>\n",
       "      <td>3</td>\n",
       "      <td>train</td>\n",
       "      <td>0.023669</td>\n",
       "    </tr>\n",
       "    <tr>\n",
       "      <th>4</th>\n",
       "      <td>4</td>\n",
       "      <td>train</td>\n",
       "      <td>0.020401</td>\n",
       "    </tr>\n",
       "  </tbody>\n",
       "</table>\n",
       "</div>"
      ],
      "text/plain": [
       "   epochs variable     value\n",
       "0       0    train  0.048183\n",
       "1       1    train  0.030454\n",
       "2       2    train  0.027054\n",
       "3       3    train  0.023669\n",
       "4       4    train  0.020401"
      ]
     },
     "execution_count": 357,
     "metadata": {},
     "output_type": "execute_result"
    }
   ],
   "source": [
    "train_val_loss_df = pd.DataFrame.from_dict(loss_stats). \\\n",
    "    reset_index().melt(id_vars = [\"index\"]). \\\n",
    "    rename(columns = {\"index\": \"epochs\"})\n",
    "\n",
    "train_val_loss_df.head()"
   ]
  },
  {
   "cell_type": "code",
   "execution_count": 358,
   "id": "2efa8ae0",
   "metadata": {
    "colab": {
     "base_uri": "https://localhost:8080/",
     "height": 206
    },
    "id": "2efa8ae0",
    "outputId": "56e3b90f-1cef-4201-f2c0-76c2749129bb"
   },
   "outputs": [
    {
     "data": {
      "text/html": [
       "<div>\n",
       "<style scoped>\n",
       "    .dataframe tbody tr th:only-of-type {\n",
       "        vertical-align: middle;\n",
       "    }\n",
       "\n",
       "    .dataframe tbody tr th {\n",
       "        vertical-align: top;\n",
       "    }\n",
       "\n",
       "    .dataframe thead th {\n",
       "        text-align: right;\n",
       "    }\n",
       "</style>\n",
       "<table border=\"1\" class=\"dataframe\">\n",
       "  <thead>\n",
       "    <tr style=\"text-align: right;\">\n",
       "      <th></th>\n",
       "      <th>epochs</th>\n",
       "      <th>variable</th>\n",
       "      <th>value</th>\n",
       "    </tr>\n",
       "  </thead>\n",
       "  <tbody>\n",
       "    <tr>\n",
       "      <th>195</th>\n",
       "      <td>95</td>\n",
       "      <td>val</td>\n",
       "      <td>0.004075</td>\n",
       "    </tr>\n",
       "    <tr>\n",
       "      <th>196</th>\n",
       "      <td>96</td>\n",
       "      <td>val</td>\n",
       "      <td>0.004077</td>\n",
       "    </tr>\n",
       "    <tr>\n",
       "      <th>197</th>\n",
       "      <td>97</td>\n",
       "      <td>val</td>\n",
       "      <td>0.004146</td>\n",
       "    </tr>\n",
       "    <tr>\n",
       "      <th>198</th>\n",
       "      <td>98</td>\n",
       "      <td>val</td>\n",
       "      <td>0.004044</td>\n",
       "    </tr>\n",
       "    <tr>\n",
       "      <th>199</th>\n",
       "      <td>99</td>\n",
       "      <td>val</td>\n",
       "      <td>0.004101</td>\n",
       "    </tr>\n",
       "  </tbody>\n",
       "</table>\n",
       "</div>"
      ],
      "text/plain": [
       "     epochs variable     value\n",
       "195      95      val  0.004075\n",
       "196      96      val  0.004077\n",
       "197      97      val  0.004146\n",
       "198      98      val  0.004044\n",
       "199      99      val  0.004101"
      ]
     },
     "execution_count": 358,
     "metadata": {},
     "output_type": "execute_result"
    }
   ],
   "source": [
    "train_val_loss_df.tail()"
   ]
  },
  {
   "cell_type": "code",
   "execution_count": 359,
   "id": "ff7705d2-cb8f-4fdc-80b9-db3cc3b91a9f",
   "metadata": {
    "colab": {
     "base_uri": "https://localhost:8080/",
     "height": 504
    },
    "id": "ff7705d2-cb8f-4fdc-80b9-db3cc3b91a9f",
    "outputId": "e4233c0b-52ef-4dc6-de95-55f8a86811eb"
   },
   "outputs": [
    {
     "data": {
      "text/plain": [
       "Text(0.5, 1.0, 'Train-Val Loss vs Epoch')"
      ]
     },
     "execution_count": 359,
     "metadata": {},
     "output_type": "execute_result"
    },
    {
     "data": {
      "image/png": "[encoded data removed]",
      "text/plain": [
       "<Figure size 1000x500 with 1 Axes>"
      ]
     },
     "metadata": {},
     "output_type": "display_data"
    }
   ],
   "source": [
    "plt.figure(figsize = (10, 5))\n",
    "\n",
    "sns.lineplot(data = train_val_loss_df,\n",
    "             x = \"epochs\", y = \"value\",\n",
    "             hue = \"variable\"\n",
    ").set_title(\"Train-Val Loss vs Epoch\")"
   ]
  },
  {
   "cell_type": "markdown",
   "id": "7651ceab-1d11-4958-badc-83b4f7c14fe3",
   "metadata": {
    "id": "7651ceab-1d11-4958-badc-83b4f7c14fe3"
   },
   "source": [
    "Ideally, We should make predictions on a separate test data by creating a Test dataloader. Here we are getting predictions on our validation data and checking the performance"
   ]
  },
  {
   "cell_type": "code",
   "execution_count": 361,
   "id": "e055a24c-36f5-4a6b-8050-a54d592a5abd",
   "metadata": {
    "id": "e055a24c-36f5-4a6b-8050-a54d592a5abd"
   },
   "outputs": [],
   "source": [
    "y_true = []\n",
    "y_pred = []\n",
    "\n",
    "with torch.no_grad():\n",
    "\n",
    "    model.eval()\n",
    "\n",
    "    for X_batch, y_batch in val_dl:\n",
    "        X_batch = X_batch.to(device)\n",
    "\n",
    "        y_test_pred = model(X_batch)\n",
    "\n",
    "        y_true.extend(y_batch)\n",
    "        y_pred.extend(y_test_pred)"
   ]
  },
  {
   "cell_type": "markdown",
   "id": "fb5f5a33-c330-4f60-b23c-015bc33d88a3",
   "metadata": {
    "id": "fb5f5a33-c330-4f60-b23c-015bc33d88a3"
   },
   "source": [
    "All  labels from validation dataloader are collected in the list and top 10 labels are shown"
   ]
  },
  {
   "cell_type": "code",
   "execution_count": 363,
   "id": "08afbebd-3fea-4f72-ab02-66c3b76cc256",
   "metadata": {
    "colab": {
     "base_uri": "https://localhost:8080/"
    },
    "id": "08afbebd-3fea-4f72-ab02-66c3b76cc256",
    "outputId": "ea217886-46c4-4d27-fc22-e426c4bdd50f"
   },
   "outputs": [
    {
     "data": {
      "text/plain": [
       "[tensor([0.1412]),\n",
       " tensor([0.0577]),\n",
       " tensor([0.5485]),\n",
       " tensor([0.0651]),\n",
       " tensor([0.1793]),\n",
       " tensor([0.1559]),\n",
       " tensor([0.0603]),\n",
       " tensor([0.0593]),\n",
       " tensor([0.0090]),\n",
       " tensor([0.1340])]"
      ]
     },
     "execution_count": 363,
     "metadata": {},
     "output_type": "execute_result"
    }
   ],
   "source": [
    "y_true[:10]"
   ]
  },
  {
   "cell_type": "markdown",
   "id": "3b984c32-f09d-4356-883c-bddd06129385",
   "metadata": {
    "id": "3b984c32-f09d-4356-883c-bddd06129385"
   },
   "source": [
    "Stacking all labels for calculating performance"
   ]
  },
  {
   "cell_type": "code",
   "execution_count": 365,
   "id": "dbd5f857-a92f-4ec4-a020-ee690e234be9",
   "metadata": {
    "colab": {
     "base_uri": "https://localhost:8080/"
    },
    "id": "dbd5f857-a92f-4ec4-a020-ee690e234be9",
    "outputId": "3459c3ed-7d47-4511-cb10-0c92d473df9a"
   },
   "outputs": [
    {
     "data": {
      "text/plain": [
       "tensor([[0.1412],\n",
       "        [0.0577],\n",
       "        [0.5485],\n",
       "        [0.0651],\n",
       "        [0.1793],\n",
       "        [0.1559],\n",
       "        [0.0603],\n",
       "        [0.0593],\n",
       "        [0.0090],\n",
       "        [0.1340]])"
      ]
     },
     "execution_count": 365,
     "metadata": {},
     "output_type": "execute_result"
    }
   ],
   "source": [
    "y_true_stacked = torch.stack((y_true))\n",
    "\n",
    "y_true_stacked[:10]"
   ]
  },
  {
   "cell_type": "markdown",
   "id": "69cd6a6e-49d4-44ff-a617-61eed0f05221",
   "metadata": {
    "id": "69cd6a6e-49d4-44ff-a617-61eed0f05221"
   },
   "source": [
    "All predictions are stacked too"
   ]
  },
  {
   "cell_type": "code",
   "execution_count": 367,
   "id": "7bedbc78-3c95-4a2e-beea-4d1146f8a4d8",
   "metadata": {
    "colab": {
     "base_uri": "https://localhost:8080/"
    },
    "id": "7bedbc78-3c95-4a2e-beea-4d1146f8a4d8",
    "outputId": "d2b1bcc6-e92d-4777-d036-e5a41262fcee"
   },
   "outputs": [
    {
     "data": {
      "text/plain": [
       "tensor([[0.2008],\n",
       "        [0.0959],\n",
       "        [0.4314],\n",
       "        [0.1227],\n",
       "        [0.1516],\n",
       "        [0.2144],\n",
       "        [0.1002],\n",
       "        [0.0988],\n",
       "        [0.0382],\n",
       "        [0.1155]], device='mps:0')"
      ]
     },
     "execution_count": 367,
     "metadata": {},
     "output_type": "execute_result"
    }
   ],
   "source": [
    "y_pred_stacked = torch.stack((y_pred))\n",
    "\n",
    "y_pred_stacked[:10]"
   ]
  },
  {
   "cell_type": "markdown",
   "id": "034cad68-703b-42e9-b022-054a3fc0ea31",
   "metadata": {
    "id": "034cad68-703b-42e9-b022-054a3fc0ea31"
   },
   "source": [
    "So the performance of simplest neural network is obtained which is around 80% R square."
   ]
  },
  {
   "cell_type": "code",
   "execution_count": 369,
   "id": "56de0a8f-c356-4e42-8be6-5750287be730",
   "metadata": {
    "colab": {
     "base_uri": "https://localhost:8080/"
    },
    "id": "56de0a8f-c356-4e42-8be6-5750287be730",
    "outputId": "514841cf-af23-40c4-91a8-bdac699dc857"
   },
   "outputs": [
    {
     "name": "stdout",
     "output_type": "stream",
     "text": [
      "Mean Squared Error : 0.004\n",
      "R^2 : 0.899\n"
     ]
    }
   ],
   "source": [
    "MSE = MeanSquaredError().to(device)\n",
    "r2score = R2Score().to(device)\n",
    "\n",
    "print(\"Mean Squared Error :\", round(MSE(y_pred_stacked.to(device), y_true_stacked.to(device)).item(), 3))\n",
    "\n",
    "print(\"R^2 :\", round(r2score(y_pred_stacked.to(device), y_true_stacked.to(device)).item(), 3))"
   ]
  },
  {
   "cell_type": "markdown",
   "id": "e5d6d503",
   "metadata": {
    "id": "e5d6d503"
   },
   "source": [
    "## TODO Recording:\n",
    "\n",
    "After that we train the model with the second neural network which has 1233 no. of parameters and performance seems to have increased by around 9 percent."
   ]
  },
  {
   "cell_type": "code",
   "execution_count": null,
   "id": "7bb41293-1613-41a4-9aa1-3f0cb436fd9f",
   "metadata": {
    "id": "7bb41293-1613-41a4-9aa1-3f0cb436fd9f"
   },
   "outputs": [],
   "source": []
  },
  {
   "cell_type": "code",
   "execution_count": null,
   "id": "3dd070e6-f7db-40fa-a255-0e024a818a7c",
   "metadata": {
    "id": "3dd070e6-f7db-40fa-a255-0e024a818a7c"
   },
   "outputs": [],
   "source": []
  },
  {
   "cell_type": "code",
   "execution_count": null,
   "id": "f19fa60c-8e53-4619-acfc-9cb8b637a378",
   "metadata": {
    "id": "f19fa60c-8e53-4619-acfc-9cb8b637a378"
   },
   "outputs": [],
   "source": []
  },
  {
   "cell_type": "code",
   "execution_count": null,
   "id": "5ff7b099",
   "metadata": {
    "id": "5ff7b099"
   },
   "outputs": [],
   "source": []
  },
  {
   "cell_type": "code",
   "execution_count": null,
   "id": "faf19380",
   "metadata": {
    "id": "faf19380"
   },
   "outputs": [],
   "source": []
  },
  {
   "cell_type": "code",
   "execution_count": null,
   "id": "2ce5b2d8",
   "metadata": {
    "id": "2ce5b2d8"
   },
   "outputs": [],
   "source": []
  },
  {
   "cell_type": "code",
   "execution_count": null,
   "id": "1d441171",
   "metadata": {
    "id": "1d441171"
   },
   "outputs": [],
   "source": []
  },
  {
   "cell_type": "code",
   "execution_count": null,
   "id": "8f9d76be",
   "metadata": {
    "id": "8f9d76be"
   },
   "outputs": [],
   "source": []
  },
  {
   "cell_type": "code",
   "execution_count": null,
   "id": "4419960a",
   "metadata": {
    "id": "4419960a"
   },
   "outputs": [],
   "source": []
  },
  {
   "cell_type": "code",
   "execution_count": null,
   "id": "2ffec63c",
   "metadata": {
    "id": "2ffec63c"
   },
   "outputs": [],
   "source": []
  },
  {
   "cell_type": "code",
   "execution_count": null,
   "id": "aaf39f03",
   "metadata": {
    "id": "aaf39f03"
   },
   "outputs": [],
   "source": []
  },
  {
   "cell_type": "code",
   "execution_count": null,
   "id": "a0cc8b35",
   "metadata": {
    "id": "a0cc8b35"
   },
   "outputs": [],
   "source": []
  },
  {
   "cell_type": "code",
   "execution_count": null,
   "id": "b91dceec",
   "metadata": {
    "id": "b91dceec"
   },
   "outputs": [],
   "source": []
  },
  {
   "cell_type": "code",
   "execution_count": null,
   "id": "07418d12",
   "metadata": {
    "id": "07418d12"
   },
   "outputs": [],
   "source": []
  }
 ],
 "metadata": {
  "accelerator": "GPU",
  "colab": {
   "gpuType": "T4",
   "provenance": []
  },
  "kernelspec": {
   "display_name": "Python [conda env:base] *",
   "language": "python",
   "name": "conda-base-py"
  },
  "language_info": {
   "codemirror_mode": {
    "name": "ipython",
    "version": 3
   },
   "file_extension": ".py",
   "mimetype": "text/x-python",
   "name": "python",
   "nbconvert_exporter": "python",
   "pygments_lexer": "ipython3",
   "version": "3.12.7"
  }
 },
 "nbformat": 4,
 "nbformat_minor": 5
}
